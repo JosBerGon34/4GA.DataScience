{
 "cells": [
  {
   "cell_type": "code",
   "execution_count": 1,
   "metadata": {},
   "outputs": [],
   "source": [
    "import sklearn\n",
    "import pandas as pd\n",
    "import numpy as np, random\n"
   ]
  },
  {
   "cell_type": "code",
   "execution_count": 4,
   "metadata": {},
   "outputs": [],
   "source": [
    "df_textoraw = pd.read_csv(\"/workspaces/NaiveBayesJBG/playstore_reviews.csv\")\n",
    "df_textoraw = df_textoraw.drop(['package_name', 'polarity'], axis=1)\n",
    "df_textoraw.to_csv(\"/workspaces/NaiveBayesJBG/playstore_reviews.csv\")"
   ]
  }
 ],
 "metadata": {
  "language_info": {
   "name": "python"
  }
 },
 "nbformat": 4,
 "nbformat_minor": 2
}
