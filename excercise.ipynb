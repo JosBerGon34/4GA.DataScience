{
 "cells": [
  {
   "cell_type": "code",
   "execution_count": 1,
   "metadata": {},
   "outputs": [],
   "source": [
    "import sklearn\n",
    "import re\n",
    "import pandas as pd\n",
    "import numpy as np, random\n",
    "from sklearn.model_selection import  train_test_split\n",
    "from sklearn.feature_extraction.text import CountVectorizer\n",
    "from sklearn.naive_bayes import MultinomialNB, BernoulliNB, GaussianNB\n",
    "from sklearn.metrics import accuracy_score, f1_score\n",
    "import matplotlib.pyplot as plt\n"
   ]
  },
  {
   "cell_type": "code",
   "execution_count": 2,
   "metadata": {},
   "outputs": [
    {
     "name": "stdout",
     "output_type": "stream",
     "text": [
      "<class 'pandas.core.frame.DataFrame'>\n",
      "RangeIndex: 891 entries, 0 to 890\n",
      "Data columns (total 3 columns):\n",
      " #   Column        Non-Null Count  Dtype \n",
      "---  ------        --------------  ----- \n",
      " 0   package_name  891 non-null    object\n",
      " 1   review        891 non-null    object\n",
      " 2   polarity      891 non-null    int64 \n",
      "dtypes: int64(1), object(2)\n",
      "memory usage: 21.0+ KB\n"
     ]
    }
   ],
   "source": [
    "df_textoraw = pd.read_csv(\"/workspaces/NaiveBayesJBG/playstore_reviews.csv\")\n",
    "#df_textoraw = df_textoraw.drop(['package_name'],inplace=True, axis=1)\n",
    "df_textoraw.info()\n",
    "#df_textoraw.to_csv(\"/workspaces/NaiveBayesJBG/playstore_reviews.csv\", axis=1, index_label=False)\n"
   ]
  },
  {
   "cell_type": "code",
   "execution_count": 3,
   "metadata": {},
   "outputs": [
    {
     "data": {
      "text/plain": [
       "0      privacy at least put some option appear offlin...\n",
       "1      messenger issues ever since the last update, i...\n",
       "2      profile any time my wife or anybody has more t...\n",
       "3      the new features suck for those of us who don'...\n",
       "4      forced reload on uploading pic on replying com...\n",
       "                             ...                        \n",
       "886    loved it i loooooooooooooovvved it because it ...\n",
       "887    all time legendary game the birthday party lev...\n",
       "888    ads are way to heavy listen to the bad reviews...\n",
       "889    fun works perfectly well. ads aren't as annoyi...\n",
       "890    they're everywhere i see angry birds everywher...\n",
       "Name: review, Length: 891, dtype: object"
      ]
     },
     "execution_count": 3,
     "metadata": {},
     "output_type": "execute_result"
    }
   ],
   "source": [
    "textolist = ()\n",
    "df_textoraw[\"review\"] = df_textoraw[\"review\"].str.strip().str.lower()\n",
    "df_textoraw[\"review\"].str.replace(r'\\s+', ' ', regex=True)"
   ]
  },
  {
   "cell_type": "code",
   "execution_count": 4,
   "metadata": {},
   "outputs": [],
   "source": [
    "x_train, x_test, y_train, y_test = train_test_split(df_textoraw[\"review\"], df_textoraw[\"polarity\"], test_size = 0.2, random_state=42)\n"
   ]
  },
  {
   "cell_type": "code",
   "execution_count": null,
   "metadata": {},
   "outputs": [],
   "source": [
    "vec_model = CountVectorizer(stop_words = \"english\")\n",
    "x_train_vect = vec_model.fit_transform(x_train).toarray()\n",
    "y_test_vect = vec_model.transform(x_test).toarray()"
   ]
  },
  {
   "cell_type": "code",
   "execution_count": 8,
   "metadata": {},
   "outputs": [
    {
     "ename": "NameError",
     "evalue": "name 'x_train_vec' is not defined",
     "output_type": "error",
     "traceback": [
      "\u001b[0;31m---------------------------------------------------------------------------\u001b[0m",
      "\u001b[0;31mNameError\u001b[0m                                 Traceback (most recent call last)",
      "\u001b[1;32m/workspaces/NaiveBayesJBG/excercise.ipynb Celda 6\u001b[0m line \u001b[0;36m2\n\u001b[1;32m      <a href='vscode-notebook-cell://codespaces%2Bfantastic-space-palm-tree-wr9rqr94j4p729jwq/workspaces/NaiveBayesJBG/excercise.ipynb#X10sdnNjb2RlLXJlbW90ZQ%3D%3D?line=0'>1</a>\u001b[0m mnb \u001b[39m=\u001b[39m MultinomialNB(alpha\u001b[39m=\u001b[39m\u001b[39m0.8\u001b[39m, fit_prior\u001b[39m=\u001b[39m\u001b[39mTrue\u001b[39;00m, force_alpha\u001b[39m=\u001b[39m\u001b[39mTrue\u001b[39;00m)\n\u001b[0;32m----> <a href='vscode-notebook-cell://codespaces%2Bfantastic-space-palm-tree-wr9rqr94j4p729jwq/workspaces/NaiveBayesJBG/excercise.ipynb#X10sdnNjb2RlLXJlbW90ZQ%3D%3D?line=1'>2</a>\u001b[0m mnb\u001b[39m.\u001b[39mfit(x_train_vec, y_train)\n\u001b[1;32m      <a href='vscode-notebook-cell://codespaces%2Bfantastic-space-palm-tree-wr9rqr94j4p729jwq/workspaces/NaiveBayesJBG/excercise.ipynb#X10sdnNjb2RlLXJlbW90ZQ%3D%3D?line=2'>3</a>\u001b[0m y_train_pred \u001b[39m=\u001b[39m mnb\u001b[39m.\u001b[39mpredict(x_train_vec)\n",
      "\u001b[0;31mNameError\u001b[0m: name 'x_train_vec' is not defined"
     ]
    }
   ],
   "source": [
    "mnb = MultinomialNB(alpha=0.8, fit_prior=True, force_alpha=True)\n",
    "mnb.fit(x_train_vec, y_train)\n",
    "y_train_pred = mnb.predict(x_train_vec)\n"
   ]
  }
 ],
 "metadata": {
  "language_info": {
   "name": "python"
  }
 },
 "nbformat": 4,
 "nbformat_minor": 2
}
