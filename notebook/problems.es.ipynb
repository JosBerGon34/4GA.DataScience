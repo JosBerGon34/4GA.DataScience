{
 "cells": [
  {
   "attachments": {},
   "cell_type": "markdown",
   "id": "27b09e13",
   "metadata": {},
   "source": [
    "# Problemas de optimización de algoritmos"
   ]
  },
  {
   "attachments": {},
   "cell_type": "markdown",
   "id": "ed05e9bf",
   "metadata": {},
   "source": [
    "## Ejercicio 1\n",
    "### Optimización de código para procesamiento de texto\n",
    "\n",
    "Se te ha entregado un código de procesamiento de texto que realiza las siguientes operaciones:\n",
    "\n",
    "1. Convierte todo el texto a minúsculas.\n",
    "2. Elimina los signos de puntuación.\n",
    "3. Cuenta la frecuencia de cada palabra.\n",
    "4. Muestra las 5 palabras mas comunes.\n",
    "\n",
    "El código funciona, pero es ineficiente y puede optimizarse. Tu tarea es identificar las áreas que pueden ser mejoradas y reescribir esas partes para hacer el código mas eficiente y legible.\n"
   ]
  },
  {
   "cell_type": "code",
   "execution_count": 1,
   "id": "8467465b",
   "metadata": {},
   "outputs": [
    {
     "name": "stdout",
     "output_type": "stream",
     "text": [
      "'the': 5 times\n",
      "'of': 3 times\n",
      "'in': 2 times\n",
      "'a': 2 times\n",
      "'she': 2 times\n"
     ]
    }
   ],
   "source": [
    "import string\n",
    "\n",
    "def process_text(text):\n",
    "    # Texto a minuscula\n",
    "    text = text.lower()\n",
    "\n",
    "    # Eliminación de puntuaciones\n",
    "    for p in string.punctuation:\n",
    "        text = text.replace(p, \"\")\n",
    "\n",
    "    # Split text into words\n",
    "    words = text.split()\n",
    "\n",
    "    # Conteo de frecuencias\n",
    "    frequencies = {}\n",
    "    for w in words:\n",
    "        if w in frequencies:\n",
    "            frequencies[w] += 1\n",
    "        else:\n",
    "            frequencies[w] = 1\n",
    "\n",
    "    sorted_frequencies = sorted(frequencies.items(), key = lambda x: x[1], reverse = True)\n",
    "\n",
    "    # Obtener las 5 palabras más comunes\n",
    "    top_5 = sorted_frequencies[:5]\n",
    "    \n",
    "    for w, frequency in top_5:\n",
    "        print(f\"'{w}': {frequency} times\")\n",
    "        \n",
    "\n",
    "text = \"\"\"\n",
    "    In the heart of the city, Emily discovered a quaint little café, hidden away from the bustling streets. \n",
    "    The aroma of freshly baked pastries wafted through the air, drawing in passersby. As she sipped on her latte, \n",
    "    she noticed an old bookshelf filled with classics, creating a cozy atmosphere that made her lose track of time.\n",
    "\"\"\"\n",
    "process_text(text)"
   ]
  },
  {
   "cell_type": "markdown",
   "id": "29040779",
   "metadata": {},
   "source": [
    "Puntos a optimizar:\n",
    "\n",
    "1. **Eliminar los signos de puntuación**: Usar `replace`  en un ciclo puede ser ineficiente, especialmente con textos largos. Busca una formas eficiente de eliminar los signos de puntuación.\n",
    "2. **Contador de frecuencia**: El código verifica la existencia de cada palabra en el diccionario y luego actualiza su cuenta. Esto puede hacerse mas eficientemente con ciertas estructuras de datos en Python.\n",
    "3. **Ordenar y seleccionar:** Considera si hay una forma mas directa o efectiva de obtener las 5 palabras mas frecuentes sin ordenar todas las palabras.\n",
    "4. **Modularidad**: Divide el código en funciones mas pequeñas para que cada una puede realizar una tarea específica. Esto no solo optimizará el desempeño, sino también hará el código mas legible y mantenible."
   ]
  },
  {
   "cell_type": "code",
   "execution_count": 2,
   "id": "57cd6641",
   "metadata": {},
   "outputs": [
    {
     "name": "stdout",
     "output_type": "stream",
     "text": [
      "'the': 4 veces\n",
      "'of': 3 veces\n",
      "'a': 2 veces\n",
      "'she': 2 veces\n",
      "'her': 2 veces\n"
     ]
    }
   ],
   "source": [
    "#Primero de todo agregaremos instrucciones y librerias especificas para operar con textos.\n",
    "import string\n",
    "from collections import Counter\n",
    "def texto_filtrado(texto):#llamamos \n",
    "# Texto a minúsculas y eliminación de puntuaciones\n",
    "    traduccion = str.maketrans('', '', string.punctuation) #Esta instruccion, en concreto maketrans sustituye\n",
    "#caracteres por el que ponemos entre parentesis, en este caso espacios.\n",
    "    texto = text.lower().translate(traduccion)# Sobreescribimos el texto añadiendo la string translator, ya sin puntuaciones\n",
    "#Y además con la instruccion translate, traducimos el texto con la indicacion anterior, en este caso no lo cambiamos de idioma\n",
    "#Si no, que cambiamos las mayusculas por minusculas de la string sin puntuaciones.\n",
    "# División del texto en palabras, creando una lista, con strings(cada string es una palabra).\n",
    "#La variable almacenara una lista.\n",
    "    palabras = text.split()\n",
    "# Conteo de frecuencias usando Counter\n",
    "    conteo = Counter(palabras)\n",
    "# Obtener las 5 palabras más comunes\n",
    "    cincopalabrasmasusadas = conteo.most_common(5)\n",
    "# Imprimir las 5 palabras más comunes\n",
    "    for palabras, conteo in cincopalabrasmasusadas:\n",
    "        print(f\"'{palabras}': {conteo} veces\")\n",
    "text = \"\"\"\n",
    "    In the heart of the city, Emily discovered a quaint little café, hidden away from the bustling streets. \n",
    "    The aroma of freshly baked pastries wafted through the air, drawing in passersby. As she sipped on her latte, \n",
    "    she noticed an old bookshelf filled with classics, creating a cozy atmosphere that made her lose track of time.\n",
    "\"\"\"\n",
    "texto_filtrado(text)\n"
   ]
  },
  {
   "attachments": {},
   "cell_type": "markdown",
   "id": "011996bc",
   "metadata": {},
   "source": [
    "## Ejercicio 2\n",
    "### Optimización de código para procesamiento de listas\n",
    "\n",
    "Se te ha dado el siguiente código que realiza operaciones en una lista de números para:\n",
    "\n",
    "1. Filtrar los números pares.\n",
    "2. Duplicar cada número.\n",
    "3. Sumar todos los números.\n",
    "4. Verificar si el resultado es un número primo.\n",
    "\n",
    "El código entregado logra los objetivos, pero puede ser ineficiente. Tu tarea es identificar y mejorar las partes de ese código para mejorar su eficiencia."
   ]
  },
  {
   "cell_type": "code",
   "execution_count": 3,
   "id": "783d03a0",
   "metadata": {},
   "outputs": [
    {
     "name": "stdout",
     "output_type": "stream",
     "text": [
      "Result: 60, ¿Prime? No\n"
     ]
    }
   ],
   "source": [
    "import numpy as np\n",
    "import pandas as pd\n",
    "import math\n",
    "import string\n",
    "from collections import Counter\n",
    "\n",
    "def is_prime(n):\n",
    "    if n <= 1:\n",
    "        return False\n",
    "    for i in range(2, int(math.sqrt(n)) + 1):\n",
    "        if n % i == 0:\n",
    "            return False\n",
    "    return True\n",
    "\n",
    "def process_list(list_):\n",
    "    filtered_list = []\n",
    "    for num in list_:\n",
    "        if num % 2 == 0:\n",
    "            filtered_list.append(num)\n",
    "    \n",
    "    duplicate_list = []\n",
    "    for num in filtered_list:\n",
    "        duplicate_list.append(num * 2)\n",
    "        \n",
    "    sum = 0\n",
    "    for num in duplicate_list:\n",
    "        sum += num\n",
    "\n",
    "    prime = is_prime(sum)\n",
    "    \n",
    "    return sum, prime\n",
    "\n",
    "list_ = [1, 2, 3, 4, 5, 6, 7, 8, 9, 10]\n",
    "result, result_prime = process_list(list_)\n",
    "print(f\"Result: {result}, ¿Prime? {'Yes' if result_prime else 'No'}\")"
   ]
  },
  {
   "cell_type": "markdown",
   "id": "128d564e",
   "metadata": {},
   "source": [
    "Puntos a optimizar:\n",
    "\n",
    "1. **Filtrar las números**: El código recorre la lista original para filtrar los números pares. Considera una forma mas eficiente de filtrar la lista.\n",
    "2. **Duplicación**: La lista es atravesada varias veces. ¿Hay alguna manera de hacer esto mas eficientemente?\n",
    "3. **Suma**: Los números en la lista se suman a traves de un bucle. Python trae incluidas unas funciones que pueden optimizar esto.\n",
    "4. **Función `is_prime`**: Aunque ésta función es relativamente eficiente, investiga si hay maneras de hacerla aun más rápida.\n",
    "5. **Modularidad**: Considera dividir el código en funciones más pequeñas, cada una enfocada en una tarea específica."
   ]
  },
  {
   "cell_type": "code",
   "execution_count": 12,
   "id": "f40e35d6",
   "metadata": {},
   "outputs": [
    {
     "ename": "TypeError",
     "evalue": "unsupported operand type(s) for +: 'int' and 'list'",
     "output_type": "error",
     "traceback": [
      "\u001b[0;31m---------------------------------------------------------------------------\u001b[0m",
      "\u001b[0;31mTypeError\u001b[0m                                 Traceback (most recent call last)",
      "Cell \u001b[0;32mIn[12], line 38\u001b[0m\n\u001b[1;32m     36\u001b[0m lista_ejemplo \u001b[38;5;241m=\u001b[39m [\u001b[38;5;241m1\u001b[39m, \u001b[38;5;241m2\u001b[39m, \u001b[38;5;241m3\u001b[39m, \u001b[38;5;241m4\u001b[39m, \u001b[38;5;241m5\u001b[39m, \u001b[38;5;241m6\u001b[39m, \u001b[38;5;241m7\u001b[39m, \u001b[38;5;241m8\u001b[39m, \u001b[38;5;241m9\u001b[39m, \u001b[38;5;241m10\u001b[39m]\n\u001b[1;32m     37\u001b[0m lista_random \u001b[38;5;241m=\u001b[39m np\u001b[38;5;241m.\u001b[39mrandom\u001b[38;5;241m.\u001b[39mrand(\u001b[38;5;241m0\u001b[39m,\u001b[38;5;241m100\u001b[39m, \u001b[38;5;241m10\u001b[39m)\n\u001b[0;32m---> 38\u001b[0m result, result_numprimo  \u001b[38;5;241m=\u001b[39m \u001b[43mlista_filtrada\u001b[49m\u001b[43m(\u001b[49m\u001b[43mlista_ejemplo\u001b[49m\u001b[43m,\u001b[49m\u001b[43m \u001b[49m\u001b[43mlista_random\u001b[49m\u001b[43m)\u001b[49m\n\u001b[1;32m     41\u001b[0m \u001b[38;5;66;03m# Imprimir el resultado\u001b[39;00m\n\u001b[1;32m     42\u001b[0m \u001b[38;5;28mprint\u001b[39m(\u001b[38;5;124mf\u001b[39m\u001b[38;5;124m\"\u001b[39m\u001b[38;5;124mResult: \u001b[39m\u001b[38;5;132;01m{\u001b[39;00mresult\u001b[38;5;132;01m}\u001b[39;00m\u001b[38;5;124m, ¿Prime? \u001b[39m\u001b[38;5;132;01m{\u001b[39;00m\u001b[38;5;124m'\u001b[39m\u001b[38;5;124mYes\u001b[39m\u001b[38;5;124m'\u001b[39m\u001b[38;5;250m \u001b[39m\u001b[38;5;28;01mif\u001b[39;00m\u001b[38;5;250m \u001b[39mresult_numprimo\u001b[38;5;250m  \u001b[39m\u001b[38;5;28;01melse\u001b[39;00m\u001b[38;5;250m \u001b[39m\u001b[38;5;124m'\u001b[39m\u001b[38;5;124mNo\u001b[39m\u001b[38;5;124m'\u001b[39m\u001b[38;5;132;01m}\u001b[39;00m\u001b[38;5;124m\"\u001b[39m)\n",
      "Cell \u001b[0;32mIn[12], line 29\u001b[0m, in \u001b[0;36mlista_filtrada\u001b[0;34m(lista_ejemplo, lista_random)\u001b[0m\n\u001b[1;32m     27\u001b[0m     filtrado_y_pordos \u001b[38;5;241m=\u001b[39m filtrar_y_duplicar(lista_ejemplo, lista_random)\n\u001b[1;32m     28\u001b[0m \u001b[38;5;66;03m# Sumar los números filtrados y duplicados\u001b[39;00m\n\u001b[0;32m---> 29\u001b[0m     suma_total \u001b[38;5;241m=\u001b[39m \u001b[38;5;28;43msum\u001b[39;49m\u001b[43m(\u001b[49m\u001b[43mfiltrado_y_pordos\u001b[49m\u001b[43m)\u001b[49m\n\u001b[1;32m     30\u001b[0m \u001b[38;5;66;03m# Verificar si la suma es un número primo\u001b[39;00m\n\u001b[1;32m     31\u001b[0m     numprimo \u001b[38;5;241m=\u001b[39m primo(suma_total)\n",
      "\u001b[0;31mTypeError\u001b[0m: unsupported operand type(s) for +: 'int' and 'list'"
     ]
    }
   ],
   "source": [
    "import numpy as np\n",
    "import pandas as pd\n",
    "import math\n",
    "import string\n",
    "from collections import Counter\n",
    "import math\n",
    "import random\n",
    "def primo(X):\n",
    "    \"\"\"Verifica si un número es primo.\"\"\"\n",
    "    if X <= 1:\n",
    "        return False\n",
    "    if X == 2:\n",
    "        return True  # El único número par primo\n",
    "    if X % 2 == 0:\n",
    "        return False  # Excluye los pares mayores que 2\n",
    "    for i in range(3, int(math.sqrt(X)) + 1, 2):\n",
    "        if X % i == 0:\n",
    "            return False\n",
    "    return True\n",
    "def filtrar_y_duplicar(lista_ejemplo, lista_random):\n",
    "#Filtra los números pares de la lista y los duplica en un solo paso\n",
    "    return [num * 2 for num in lista_ejemplo if num % 2 == 0], [num * 2 for num in lista_ejemplo if num % 2 == 0],\n",
    "\n",
    "def lista_filtrada(lista_ejemplo, lista_random ):\n",
    "#Procesa la lista para filtrar pares, duplicar, sumar y verificar si la suma es un número primo.\"\"\"\n",
    "# Filtrar números pares y duplicarlos en un solo paso\n",
    "    filtrado_y_pordos = filtrar_y_duplicar(lista_ejemplo, lista_random)\n",
    "# Sumar los números filtrados y duplicados\n",
    "    suma_total = sum(filtrado_y_pordos)\n",
    "# Verificar si la suma es un número primo\n",
    "    numprimo = primo(suma_total)\n",
    "    \n",
    "    return suma_total, numprimo\n",
    "\n",
    "# Lista de ejemplo\n",
    "lista_ejemplo = [1, 2, 3, 4, 5, 6, 7, 8, 9, 10]\n",
    "lista_random = np.random.rand(0,100, 10)\n",
    "result, result_numprimo  = lista_filtrada(lista_ejemplo, lista_random)\n",
    "\n",
    "\n",
    "# Imprimir el resultado\n",
    "print(f\"Result: {result}, ¿Prime? {'Yes' if result_numprimo  else 'No'}\")"
   ]
  },
  {
   "attachments": {},
   "cell_type": "markdown",
   "id": "1af70806",
   "metadata": {},
   "source": [
    "Ambos ejercicios  ayudarán a mejorar tu habilidad de optimizar el desempeño del código y te darán un mejor entendimiento de como las diferentes estructuras de datos y técnicas de programación pueden afectar la eficiencia de tu código."
   ]
  },
  {
   "cell_type": "code",
   "execution_count": 240,
   "id": "33630612",
   "metadata": {},
   "outputs": [
    {
     "name": "stdout",
     "output_type": "stream",
     "text": [
      "Result: 188, ¿Primo? False\n"
     ]
    }
   ],
   "source": [
    "import numpy as np\n",
    "import pandas as pd\n",
    "import math\n",
    "import string\n",
    "from collections import Counter\n",
    "import math\n",
    "import random\n",
    "import numpy as np\n",
    "\n",
    "\n",
    "def primo(X):\n",
    "    #Verifica si un número es primo\n",
    "    # ... (código de la función primo sin cambios)\n",
    "    if X <= 1:\n",
    "        return False\n",
    "    if X == 2:\n",
    "        return True  # El único número par primo\n",
    "    if X % 2 == 0:\n",
    "        return False  # Excluye los pares mayores que 2\n",
    "    for i in range(3, int(math.sqrt(X)) + 1, 2):\n",
    "        if X % i == 0:\n",
    "            return False\n",
    "    return True\n",
    "\n",
    "def filtrar_y_duplicar(lista):\n",
    "#Filtra los números pares de la lista y los duplica.\n",
    "    return [num * 2 for num in lista if num % 2 == 0]\n",
    "\n",
    "def lista_filtrada(lista):\n",
    "    #Procesa la lista para filtrar pares, duplicar, sumar y verificar si la suma es un número primo\n",
    "    # Filtrar números pares y duplicarlos\n",
    "    pares_duplicados = filtrar_y_duplicar(lista)\n",
    "    # Sumar los números pares duplicados\n",
    "    suma_total = sum(pares_duplicados)\n",
    "    # Verificar si la suma es un número primo\n",
    "    es_primo = primo(suma_total)\n",
    "    return suma_total, es_primo\n",
    "\n",
    "# Lista de ejemplo\n",
    "#lista = [1, 2, 3, 4, 5, 6, 7, 8, 9, 10]\n",
    "# Generar una lista de 10 números aleatorios entre 0 y 33\n",
    "lista = np.random.randint(1, 34, 10)\n",
    "\n",
    "# Procesar la lista de ejemplo\n",
    "result, es_primo = lista_filtrada(lista)\n",
    "\n",
    "# Imprimir el resultado\n",
    "print(f\"Result: {result}, ¿Primo? {es_primo}\")"
   ]
  }
 ],
 "metadata": {
  "kernelspec": {
   "display_name": "Python 3",
   "language": "python",
   "name": "python3"
  },
  "language_info": {
   "codemirror_mode": {
    "name": "ipython",
    "version": 3
   },
   "file_extension": ".py",
   "mimetype": "text/x-python",
   "name": "python",
   "nbconvert_exporter": "python",
   "pygments_lexer": "ipython3",
   "version": "3.11.4"
  }
 },
 "nbformat": 4,
 "nbformat_minor": 5
}
