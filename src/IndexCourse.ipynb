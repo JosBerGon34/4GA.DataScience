{
 "cells": [
  {
   "cell_type": "markdown",
   "id": "801507f9",
   "metadata": {
    "vscode": {
     "languageId": "plaintext"
    }
   },
   "source": [
    "MÓDULO 1 Prework Review:\n",
    "7 Actividades\n",
    "The Pre-work was about Python, Numpy, Pandas and Matplotlib but we understand that was a lot, \n",
    "let's go over some of the concepts with the rest of your cohort and mentors.\n"
   ]
  },
  {
   "cell_type": "markdown",
   "id": "9ab457ac",
   "metadata": {},
   "source": [
    "MÓDULO 2 Calculus and L. Algebra:\n",
    "5 Actividades\n",
    "Linear Algebra's Matrix and Vectors are heavily used in Machine Learning, these structures are mainly used to store manipulate high amounts of information. Also, L. \n",
    "algebra functions \"f(x)\" help understand the relationship between target variables \"y\" and their predictors \"x\".\n"
   ]
  },
  {
   "cell_type": "markdown",
   "id": "1ab136ef",
   "metadata": {},
   "source": [
    "MÓDULO 3 Github:\n",
    "6 Actividades\n",
    "GitHub is where 90% of the world's code lives. Most data science libraries, large language models, \n",
    "and notebooks are open-source and through GitHub. The reason for this is collaboration: Today, you will collaborate like a real AI professional!"
   ]
  },
  {
   "cell_type": "markdown",
   "id": "90293c4b",
   "metadata": {},
   "source": [
    "MÓDULO 4 Probability:\n",
    "2 Actividades\n",
    "A machine learning algorithm is basically all about probability, \n",
    "you have to predict how probable an event or data is to happen, \n",
    "that is why we need to go over the basic probability functions to better create our future models."
   ]
  },
  {
   "cell_type": "markdown",
   "id": "8d77a93f",
   "metadata": {},
   "source": [
    "MÓDULO 5 Descriptive Statistics:\n",
    "3 Actividades\n",
    "When you have a big dataset, you cannot calculate very specific values because there is too much data, what you can do is get central tendency values like the mean, median and standard deviation and others."
   ]
  },
  {
   "cell_type": "markdown",
   "id": "05b3c875",
   "metadata": {
    "vscode": {
     "languageId": "plaintext"
    }
   },
   "source": [
    "MÓDULO 6 Random Variables:\n",
    "5 Actividades\n",
    "In order to predict better, we first need to understand how our dataset values are distributed, \n",
    "based on that we can better identify outliers, fill missing values and do better data mining in general.\n"
   ]
  },
  {
   "cell_type": "markdown",
   "id": "569e20ef",
   "metadata": {
    "vscode": {
     "languageId": "plaintext"
    }
   },
   "source": [
    "MÓDULO 7 Hypothesis Testing:\n",
    "2 Actividades\n",
    "Before creating an algorithm/model with your assumptions, it's recommended to use Hypothesis Testing (defining a null and alternative hypothesis) and test agains it.\n"
   ]
  },
  {
   "cell_type": "markdown",
   "id": "f9ea4c01",
   "metadata": {
    "vscode": {
     "languageId": "plaintext"
    }
   },
   "source": [
    "MÓDULO 8 Algorithm Optimization:\n",
    "2 Actividades\n",
    "Algorithms need time and space to run, as a machine learning engineer you should learn how to optimize \n",
    "your code to take the lowest amount of space without taking too much time to execute. "
   ]
  },
  {
   "cell_type": "markdown",
   "id": "b5377d3e",
   "metadata": {},
   "source": [
    "MÓDULO 9 M.L. Ops:\n",
    "4 Actividades\n",
    "If you are going to be deploying your machine learning models you need to know the command line, \n",
    "python package manager (PIP) and the cookie cutter boilerplate (at least). Today you will get the first Machine Learning Operations lesson."
   ]
  },
  {
   "cell_type": "markdown",
   "id": "5f19fa25",
   "metadata": {},
   "source": [
    "MÓDULO 10 Intro to SQL:\n",
    "SQL is the language for data, all the famous database engines use it to query or manipulate the data inside the database, \n",
    "lets get familiar with the most basic concepts, instructions and connect to our first real database."
   ]
  },
  {
   "cell_type": "markdown",
   "id": "595e9440",
   "metadata": {},
   "source": [
    "MÓDULO 11 Web Scraping:\n",
    "4 Actividades\n",
    "Scraping is one of the most used sources of gathering data in the world of machine learning. \n",
    "This technology allows you to download almost anything publicly available on the internet, even without an API! Let's do our first scraping and learn the basics of it."
   ]
  },
  {
   "cell_type": "markdown",
   "id": "14a91673",
   "metadata": {},
   "source": [
    "MÓDULO 12 API Requests:\n",
    "3 Actividades\n",
    "The last wait to fetch or retrieve data that we will be learning during the courses is API integrations, that are millions of public API's on the internet with very valuable information. As a Machine Learning Engineer sometimes you will need to use the python request package to connect to an API and get the extra data you need."
   ]
  },
  {
   "cell_type": "markdown",
   "id": "4f70b83d",
   "metadata": {},
   "source": [
    "MÓDULO 13 Exploratory Data Analysis:\n",
    "3 Actividades\n",
    "Find patterns in your data in order to get insights and valuable information. \n",
    "Use that information to make decisions and generate better predictions. \n",
    "If your data is garbage, the output will be garbage: Clean your data to avoid poor quality outputs."
   ]
  },
  {
   "cell_type": "markdown",
   "id": "fa9abfb7",
   "metadata": {},
   "source": [
    "MÓDULO 14 Your first Machine Learning Algorithm:\n",
    "5 Actividades\n",
    "During this module you will learn the basics of machine learning, \n",
    "the evaluation metrics and how to optimize your ML algo. We will start our journey with logistic regressions."
   ]
  },
  {
   "cell_type": "markdown",
   "id": "2f061d09",
   "metadata": {},
   "source": [
    "MÓDULO 15 Linear Regression:\n",
    "3 Actividades\n",
    "Read the linear regression theory and run the code in the exploring linear regression notebook to practice. \n",
    "Then go to your project and predict the cost of a medical insurance using Linear Regression"
   ]
  }
 ],
 "metadata": {
  "language_info": {
   "name": "python"
  }
 },
 "nbformat": 4,
 "nbformat_minor": 5
}
