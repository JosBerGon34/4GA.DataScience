{
 "cells": [
  {
   "cell_type": "markdown",
   "metadata": {},
   "source": [
    "# Explore here"
   ]
  },
  {
   "cell_type": "code",
   "execution_count": 33,
   "metadata": {},
   "outputs": [],
   "source": [
    "# Your code here\n",
    "from sqlalchemy.ext.declarative import declarative_base\n",
    "from sqlalchemy import Column, Integer, String\n",
    "import pandas as pd\n",
    "#cargamos el csv via URL o pathing de nuestro repositorio\n",
    "#y lo guardamos tipo dataframe\n",
    "df_rawdata = pd.DataFrame(pd.read_csv(\"/workspaces/JBGEDA1/data/raw/AB_NYC_2019.csv\"))"
   ]
  },
  {
   "cell_type": "code",
   "execution_count": 34,
   "metadata": {},
   "outputs": [
    {
     "name": "stdout",
     "output_type": "stream",
     "text": [
      "<class 'pandas.core.frame.DataFrame'>\n",
      "RangeIndex: 48895 entries, 0 to 48894\n",
      "Data columns (total 16 columns):\n",
      " #   Column                          Non-Null Count  Dtype  \n",
      "---  ------                          --------------  -----  \n",
      " 0   id                              48895 non-null  int64  \n",
      " 1   name                            48879 non-null  object \n",
      " 2   host_id                         48895 non-null  int64  \n",
      " 3   host_name                       48874 non-null  object \n",
      " 4   neighbourhood_group             48895 non-null  object \n",
      " 5   neighbourhood                   48895 non-null  object \n",
      " 6   latitude                        48895 non-null  float64\n",
      " 7   longitude                       48895 non-null  float64\n",
      " 8   room_type                       48895 non-null  object \n",
      " 9   price                           48895 non-null  int64  \n",
      " 10  minimum_nights                  48895 non-null  int64  \n",
      " 11  number_of_reviews               48895 non-null  int64  \n",
      " 12  last_review                     38843 non-null  object \n",
      " 13  reviews_per_month               38843 non-null  float64\n",
      " 14  calculated_host_listings_count  48895 non-null  int64  \n",
      " 15  availability_365                48895 non-null  int64  \n",
      "dtypes: float64(3), int64(7), object(6)\n",
      "memory usage: 6.0+ MB\n",
      "dimensions\n"
     ]
    }
   ],
   "source": [
    "#Creamos una variable poara que contenga una tupla, para saber\n",
    "#las dimensiones de nuestro dataframe\n",
    "dimensions = df_rawdata.shape\n",
    "#El .info() nos dara informacion basica de nuestro dataframe\n",
    "df_rawdata.info()\n",
    "print(\"dimensions\")"
   ]
  },
  {
   "cell_type": "code",
   "execution_count": 35,
   "metadata": {},
   "outputs": [
    {
     "name": "stdout",
     "output_type": "stream",
     "text": [
      "host_id                               0\n",
      "neighbourhood_group                   0\n",
      "neighbourhood                         0\n",
      "latitude                              0\n",
      "longitude                             0\n",
      "room_type                             0\n",
      "price                                 0\n",
      "minimum_nights                        0\n",
      "number_of_reviews                     0\n",
      "last_review                       10052\n",
      "reviews_per_month                 10052\n",
      "calculated_host_listings_count        0\n",
      "availability_365                      0\n",
      "dtype: int64\n"
     ]
    }
   ],
   "source": [
    "#Eliminamos las columnas que no nos interese para correlacionar\n",
    "#con nuestra variable target\n",
    "df_rawdata.drop(['name','host_name','id'], inplace=True, axis=1)\n",
    "#Podemos calcular la cantidad de nulls por columna, es decir datos\n",
    "#erróneos o no insertados al indice\n",
    "nulls = df_rawdata.isnull().sum()\n",
    "#Printeamos nulls por consola\n",
    "print(nulls)"
   ]
  },
  {
   "cell_type": "markdown",
   "metadata": {},
   "source": [
    "NUESTRO TARGET , evidentemente sera el PRECIO DE ALQUILER POR HABITACIONES de las viviendas de airbnb en nova york. Por lo cual, viendo la cantidad de nulls que tienen las columnas ['last_review'] y ['reviews_per_month'] no nos interesa hacer una correlacion con dichas columnas, ya que vamos a perder mucha cantidad de indices con datos de otras columnas, por lo cual, tambien eliminaremos estas dos columnas."
   ]
  },
  {
   "cell_type": "code",
   "execution_count": 36,
   "metadata": {},
   "outputs": [
    {
     "name": "stdout",
     "output_type": "stream",
     "text": [
      "host_id                           0\n",
      "neighbourhood_group               0\n",
      "neighbourhood                     0\n",
      "latitude                          0\n",
      "longitude                         0\n",
      "room_type                         0\n",
      "price                             0\n",
      "minimum_nights                    0\n",
      "number_of_reviews                 0\n",
      "calculated_host_listings_count    0\n",
      "availability_365                  0\n",
      "dtype: int64\n"
     ]
    }
   ],
   "source": [
    "#Volvemos a eliminar columnas del DF.\n",
    "df_rawdata.drop(['last_review','reviews_per_month'], inplace=True, axis=1)\n",
    "#Para Visualizar que se ha eliminado\n",
    "#podemos printear de nuevo el null\n",
    "nulls = df_rawdata.isnull().sum()\n",
    "#Printeamos nulls por consola\n",
    "print(nulls)"
   ]
  }
 ],
 "metadata": {
  "kernelspec": {
   "display_name": "Python 3",
   "language": "python",
   "name": "python3"
  },
  "language_info": {
   "codemirror_mode": {
    "name": "ipython",
    "version": 3
   },
   "file_extension": ".py",
   "mimetype": "text/x-python",
   "name": "python",
   "nbconvert_exporter": "python",
   "pygments_lexer": "ipython3",
   "version": "3.10.12"
  },
  "orig_nbformat": 4
 },
 "nbformat": 4,
 "nbformat_minor": 2
}
