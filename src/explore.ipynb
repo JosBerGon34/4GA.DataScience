{
 "cells": [
  {
   "cell_type": "markdown",
   "metadata": {},
   "source": [
    "# <b>New York City Airbnb EDA</b>\n",
    "----\n",
    "What is Exploratory Data Analysis (EDA)?\n",
    "\n",
    "Exploratory data analysis (EDA) is the starting and fundamental approach to any data analysis, as it aims to understand the main characteristics of a data set before performing more advanced analysis or further modeling.\n",
    "\n",
    "EDA involves the following:\n",
    "\n",
    "Data visualization: Using plots such as histograms, box plots, scatter plots and many others to visualize the distribution of the data, the relationships between variables and any anomalies or peculiarities in the data.\n",
    "Anomaly identification: Detecting and sometimes dealing with outliers or missing data that could affect further analysis.\n",
    "Hypothesis formulation: From the scan, analysts can begin to formulate hypotheses that will then be tested in more detailed analysis or modeling.\n",
    "The main purpose of EDA is to see what the data can tell us beyond the formal modeling task. It serves to ensure that the subsequent modeling or analysis phase is done properly and that any conclusions are based on a correct understanding of the structure of the data\n",
    "\n",
    "Step 1: Problem statement and data collection\n",
    "Step 2: Exploration and data cleaning\n",
    "2.1 Summarize DF\n",
    "2.2 Eliminate duplicates\n",
    "2.3 Elimnate irrelevant information\n",
    "Step 3: Analysis of univariate variables\n",
    "3.1 Analysis of categorical variables\n",
    "3.2 Analysis of numerical variables\n",
    "Step 4: Analysis of multivariate variables\n",
    "4.1 Numerical-numerical analysis\n",
    "4.2 Categorical-categorical analysis\n",
    "4.3 Other mixed analysis\n",
    "4.4 From string to numerical transformation --> JSON saving\n",
    "4.5 Correlation matrix\n",
    "Step 5: Feature engineering\n",
    "5.1 Outliers analysis\n",
    "5.2 Upper and lower limits of outliers variables --> JSON saving\n",
    "5.3 Copy 2 DataFrames: with and without outliers\n",
    "5.4 Missing value analysis\n",
    "5.5 Inference of new features\n",
    "5.6 Feature Scaling\n",
    "5.6.1 train test\n",
    "5.6.2 Normalization\n",
    "5.6.3 Min-Max Scaling\n",
    "Step 6: Feature selection"
   ]
  },
  {
   "cell_type": "code",
   "execution_count": 9,
   "metadata": {},
   "outputs": [],
   "source": [
    "# Your code here\n",
    "from sqlalchemy.ext.declarative import declarative_base\n",
    "from sqlalchemy import Column, Integer, String\n",
    "import pandas as pd\n",
    "#Cargamos el csv via URL o pathing de nuestro repositorio\n",
    "#y lo guardamos en una variable tipo dataframe\n",
    "df_rawdata = pd.DataFrame(pd.read_csv(\"/workspaces/JBGEDA1/data/raw/AB_NYC_2019.csv\"))"
   ]
  },
  {
   "cell_type": "code",
   "execution_count": 10,
   "metadata": {},
   "outputs": [
    {
     "name": "stdout",
     "output_type": "stream",
     "text": [
      "<class 'pandas.core.frame.DataFrame'>\n",
      "RangeIndex: 48895 entries, 0 to 48894\n",
      "Data columns (total 16 columns):\n",
      " #   Column                          Non-Null Count  Dtype  \n",
      "---  ------                          --------------  -----  \n",
      " 0   id                              48895 non-null  int64  \n",
      " 1   name                            48879 non-null  object \n",
      " 2   host_id                         48895 non-null  int64  \n",
      " 3   host_name                       48874 non-null  object \n",
      " 4   neighbourhood_group             48895 non-null  object \n",
      " 5   neighbourhood                   48895 non-null  object \n",
      " 6   latitude                        48895 non-null  float64\n",
      " 7   longitude                       48895 non-null  float64\n",
      " 8   room_type                       48895 non-null  object \n",
      " 9   price                           48895 non-null  int64  \n",
      " 10  minimum_nights                  48895 non-null  int64  \n",
      " 11  number_of_reviews               48895 non-null  int64  \n",
      " 12  last_review                     38843 non-null  object \n",
      " 13  reviews_per_month               38843 non-null  float64\n",
      " 14  calculated_host_listings_count  48895 non-null  int64  \n",
      " 15  availability_365                48895 non-null  int64  \n",
      "dtypes: float64(3), int64(7), object(6)\n",
      "memory usage: 6.0+ MB\n",
      "dimensions\n"
     ]
    }
   ],
   "source": [
    "#Creamos una variable para que contenga una tupla, para saber\n",
    "#las dimensiones de nuestro dataframe\n",
    "dimensions = df_rawdata.shape\n",
    "#El .info() nos dara informacion basica de nuestro dataframe\n",
    "df_rawdata.info()\n",
    "print(\"dimensions\")"
   ]
  },
  {
   "cell_type": "code",
   "execution_count": 11,
   "metadata": {},
   "outputs": [
    {
     "name": "stdout",
     "output_type": "stream",
     "text": [
      "host_id                               0\n",
      "neighbourhood_group                   0\n",
      "neighbourhood                         0\n",
      "latitude                              0\n",
      "longitude                             0\n",
      "room_type                             0\n",
      "price                                 0\n",
      "minimum_nights                        0\n",
      "number_of_reviews                     0\n",
      "last_review                       10052\n",
      "reviews_per_month                 10052\n",
      "calculated_host_listings_count        0\n",
      "availability_365                      0\n",
      "dtype: int64\n"
     ]
    }
   ],
   "source": [
    "#Eliminamos las columnas que no nos interese para correlacionar\n",
    "#con nuestra variable target\n",
    "df_rawdata.drop(['name','host_name','id'], inplace=True, axis=1)\n",
    "#Podemos calcular la cantidad de nulls por columna, es decir datos\n",
    "#erróneos o no insertados al indice\n",
    "nulls = df_rawdata.isnull().sum()\n",
    "#Printeamos nulls por consola\n",
    "print(nulls)"
   ]
  },
  {
   "cell_type": "markdown",
   "metadata": {},
   "source": [
    "NUESTRO TARGET , evidentemente sera el PRECIO DE ALQUILER POR HABITACIONES de las viviendas de airbnb en Nueva York. Por lo cual, viendo la cantidad de nulls que tienen las columnas ['last_review'] y ['reviews_per_month'] no nos interesa hacer una correlacion con dichas columnas, ya que vamos a perder mucha cantidad de indices con datos de otras columnas, por lo cual, tambien eliminaremos estas dos columnas."
   ]
  },
  {
   "cell_type": "code",
   "execution_count": 12,
   "metadata": {},
   "outputs": [
    {
     "name": "stdout",
     "output_type": "stream",
     "text": [
      "host_id                           0\n",
      "neighbourhood_group               0\n",
      "neighbourhood                     0\n",
      "latitude                          0\n",
      "longitude                         0\n",
      "room_type                         0\n",
      "price                             0\n",
      "minimum_nights                    0\n",
      "number_of_reviews                 0\n",
      "calculated_host_listings_count    0\n",
      "availability_365                  0\n",
      "dtype: int64\n"
     ]
    }
   ],
   "source": [
    "#Volvemos a eliminar columnas del DF.\n",
    "df_rawdata.drop(['last_review','reviews_per_month'], inplace=True, axis=1)\n",
    "#Para Visualizar que se ha eliminado\n",
    "#podemos printear de nuevo el null\n",
    "nulls = df_rawdata.isnull().sum()\n",
    "#Printeamos nulls por consola\n",
    "print(nulls)"
   ]
  },
  {
   "cell_type": "code",
   "execution_count": null,
   "metadata": {},
   "outputs": [],
   "source": []
  }
 ],
 "metadata": {
  "kernelspec": {
   "display_name": "Python 3",
   "language": "python",
   "name": "python3"
  },
  "language_info": {
   "codemirror_mode": {
    "name": "ipython",
    "version": 3
   },
   "file_extension": ".py",
   "mimetype": "text/x-python",
   "name": "python",
   "nbconvert_exporter": "python",
   "pygments_lexer": "ipython3",
   "version": "3.10.12"
  },
  "orig_nbformat": 4
 },
 "nbformat": 4,
 "nbformat_minor": 2
}
