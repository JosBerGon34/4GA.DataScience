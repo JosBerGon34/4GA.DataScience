{
 "cells": [
  {
   "cell_type": "markdown",
   "metadata": {},
   "source": [
    "# Explore here"
   ]
  },
  {
   "cell_type": "code",
   "execution_count": 91,
   "metadata": {},
   "outputs": [],
   "source": [
    "import numpy as np, random\n",
    "import pandas as pd\n",
    "import matplotlib.pyplot as plt\n",
    "import seaborn as sns\n",
    "import json\n",
    "import os\n",
    "import os.path\n",
    "import joblib\n"
   ]
  },
  {
   "cell_type": "markdown",
   "metadata": {},
   "source": [
    "1)EDA: PREPARACION DE DATOS."
   ]
  },
  {
   "cell_type": "code",
   "execution_count": 80,
   "metadata": {},
   "outputs": [],
   "source": [
    "#CARGAMOS LOS DATOS.\n",
    "df_rd= pd.read_csv('https://raw.githubusercontent.com/4GeeksAcademy/linear-regression-project-tutorial/main/medical_insurance_cost.csv')\n",
    "df_rd.to_csv(\"/workspaces/EDALinRegJBG/data/raw/df_rd.csv\", index=False)"
   ]
  },
  {
   "cell_type": "code",
   "execution_count": 81,
   "metadata": {},
   "outputs": [
    {
     "name": "stdout",
     "output_type": "stream",
     "text": [
      "<class 'pandas.core.frame.DataFrame'>\n",
      "RangeIndex: 1338 entries, 0 to 1337\n",
      "Data columns (total 7 columns):\n",
      " #   Column    Non-Null Count  Dtype  \n",
      "---  ------    --------------  -----  \n",
      " 0   age       1338 non-null   int64  \n",
      " 1   sex       1338 non-null   object \n",
      " 2   bmi       1338 non-null   float64\n",
      " 3   children  1338 non-null   int64  \n",
      " 4   smoker    1338 non-null   object \n",
      " 5   region    1338 non-null   object \n",
      " 6   charges   1338 non-null   float64\n",
      "dtypes: float64(2), int64(2), object(3)\n",
      "memory usage: 73.3+ KB\n",
      "None\n"
     ]
    }
   ],
   "source": [
    "#CHEQUEAMOS LOS DATOS. miramos caracteristicas del df.\n",
    "print(df_rd.info())\n",
    "#Modificaremos el dataframe sin duplicados.\n",
    "#Borramos duplicados y nulos los pasamos a 0.\n",
    "df_rd = df_rd.drop_duplicates().reset_index(drop = True)\n",
    "df_rd = df_rd.fillna(0)"
   ]
  },
  {
   "cell_type": "code",
   "execution_count": 82,
   "metadata": {},
   "outputs": [
    {
     "data": {
      "text/html": [
       "<div>\n",
       "<style scoped>\n",
       "    .dataframe tbody tr th:only-of-type {\n",
       "        vertical-align: middle;\n",
       "    }\n",
       "\n",
       "    .dataframe tbody tr th {\n",
       "        vertical-align: top;\n",
       "    }\n",
       "\n",
       "    .dataframe thead th {\n",
       "        text-align: right;\n",
       "    }\n",
       "</style>\n",
       "<table border=\"1\" class=\"dataframe\">\n",
       "  <thead>\n",
       "    <tr style=\"text-align: right;\">\n",
       "      <th></th>\n",
       "      <th>age</th>\n",
       "      <th>sex</th>\n",
       "      <th>bmi</th>\n",
       "      <th>children</th>\n",
       "      <th>smoker</th>\n",
       "      <th>region</th>\n",
       "      <th>charges</th>\n",
       "    </tr>\n",
       "  </thead>\n",
       "  <tbody>\n",
       "    <tr>\n",
       "      <th>0</th>\n",
       "      <td>19</td>\n",
       "      <td>female</td>\n",
       "      <td>27.900</td>\n",
       "      <td>0</td>\n",
       "      <td>yes</td>\n",
       "      <td>southwest</td>\n",
       "      <td>16884.92400</td>\n",
       "    </tr>\n",
       "    <tr>\n",
       "      <th>1</th>\n",
       "      <td>18</td>\n",
       "      <td>male</td>\n",
       "      <td>33.770</td>\n",
       "      <td>1</td>\n",
       "      <td>no</td>\n",
       "      <td>southeast</td>\n",
       "      <td>1725.55230</td>\n",
       "    </tr>\n",
       "    <tr>\n",
       "      <th>2</th>\n",
       "      <td>28</td>\n",
       "      <td>male</td>\n",
       "      <td>33.000</td>\n",
       "      <td>3</td>\n",
       "      <td>no</td>\n",
       "      <td>southeast</td>\n",
       "      <td>4449.46200</td>\n",
       "    </tr>\n",
       "    <tr>\n",
       "      <th>3</th>\n",
       "      <td>33</td>\n",
       "      <td>male</td>\n",
       "      <td>22.705</td>\n",
       "      <td>0</td>\n",
       "      <td>no</td>\n",
       "      <td>northwest</td>\n",
       "      <td>21984.47061</td>\n",
       "    </tr>\n",
       "    <tr>\n",
       "      <th>4</th>\n",
       "      <td>32</td>\n",
       "      <td>male</td>\n",
       "      <td>28.880</td>\n",
       "      <td>0</td>\n",
       "      <td>no</td>\n",
       "      <td>northwest</td>\n",
       "      <td>3866.85520</td>\n",
       "    </tr>\n",
       "    <tr>\n",
       "      <th>5</th>\n",
       "      <td>31</td>\n",
       "      <td>female</td>\n",
       "      <td>25.740</td>\n",
       "      <td>0</td>\n",
       "      <td>no</td>\n",
       "      <td>southeast</td>\n",
       "      <td>3756.62160</td>\n",
       "    </tr>\n",
       "    <tr>\n",
       "      <th>6</th>\n",
       "      <td>46</td>\n",
       "      <td>female</td>\n",
       "      <td>33.440</td>\n",
       "      <td>1</td>\n",
       "      <td>no</td>\n",
       "      <td>southeast</td>\n",
       "      <td>8240.58960</td>\n",
       "    </tr>\n",
       "  </tbody>\n",
       "</table>\n",
       "</div>"
      ],
      "text/plain": [
       "   age     sex     bmi  children smoker     region      charges\n",
       "0   19  female  27.900         0    yes  southwest  16884.92400\n",
       "1   18    male  33.770         1     no  southeast   1725.55230\n",
       "2   28    male  33.000         3     no  southeast   4449.46200\n",
       "3   33    male  22.705         0     no  northwest  21984.47061\n",
       "4   32    male  28.880         0     no  northwest   3866.85520\n",
       "5   31  female  25.740         0     no  southeast   3756.62160\n",
       "6   46  female  33.440         1     no  southeast   8240.58960"
      ]
     },
     "execution_count": 82,
     "metadata": {},
     "output_type": "execute_result"
    }
   ],
   "source": [
    "df_rd.head(7)"
   ]
  },
  {
   "cell_type": "markdown",
   "metadata": {},
   "source": [
    "1)EVALUACION variable target columna numero 6(de 0 a 6) 'charges'.\n",
    "Bajo varios varios criterios de evaluacion, nuestra variable target tiene un rango amplio de escala grande."
   ]
  },
  {
   "cell_type": "code",
   "execution_count": 83,
   "metadata": {},
   "outputs": [
    {
     "name": "stdout",
     "output_type": "stream",
     "text": [
      "               Tipo   Columna\n",
      "0          Numérica       age\n",
      "1          Numérica       bmi\n",
      "2          Numérica  children\n",
      "3          Numérica   charges\n",
      "4        Categórica       sex\n",
      "5        Categórica    smoker\n",
      "6        Categórica    region\n",
      "7    Total Numérico         4\n",
      "8  Total Categórico         3\n",
      "9     Total General         7\n"
     ]
    }
   ],
   "source": [
    "def vartype(df):\n",
    "    num_cols = df.select_dtypes(include=['int64', 'float64']).columns.tolist()\n",
    "    cat_cols = df.select_dtypes(include=['object']).columns.tolist()\n",
    "    df_tipos = pd.DataFrame({'Tipo': ['Numérica']*len(num_cols) + ['Categórica']*len(cat_cols),\n",
    "                            'Columna': num_cols + cat_cols})\n",
    "    total_num = len(num_cols)\n",
    "    total_cat = len(cat_cols)\n",
    "    total_general = total_num + total_cat\n",
    "    # Crear una lista de diccionarios para las nuevas filas\n",
    "    new_rows = [{'Tipo': 'Total Numérico', 'Columna': total_num},\n",
    "                {'Tipo': 'Total Categórico', 'Columna': total_cat},\n",
    "                {'Tipo': 'Total General', 'Columna': total_general},]\n",
    "    df_tipos = pd.concat([df_tipos, pd.DataFrame(new_rows)], ignore_index=True)\n",
    "    return df_tipos\n",
    "df_rd_vars= vartype(df_rd)\n",
    "print(df_rd_vars)"
   ]
  },
  {
   "cell_type": "code",
   "execution_count": 84,
   "metadata": {},
   "outputs": [
    {
     "name": "stdout",
     "output_type": "stream",
     "text": [
      "['sex' 'smoker' 'region']\n"
     ]
    }
   ],
   "source": [
    "print(df_rd_vars[df_rd_vars['Tipo'] == 'Categórica']['Columna'].unique())"
   ]
  },
  {
   "cell_type": "code",
   "execution_count": 85,
   "metadata": {},
   "outputs": [],
   "source": [
    "def CatVarsDF(df, output_dir, index=False):\n",
    "  cat_cols = df.select_dtypes(include=['object']).columns.tolist()\n",
    "  df_cat = df[cat_cols]\n",
    "  output_file = os.path.join(output_dir, 'df_cat.csv')\n",
    "  df_cat.to_csv(output_file, index=index)\n",
    "  return df_cat\n",
    "CatVarsDF(df_rd,'/workspaces/EDALinRegJBG/data/processed/Dataframes/')\n",
    "df_cat= pd.read_csv('/workspaces/EDALinRegJBG/data/processed/Dataframes/df_cat.csv')"
   ]
  },
  {
   "cell_type": "code",
   "execution_count": 86,
   "metadata": {},
   "outputs": [
    {
     "name": "stdout",
     "output_type": "stream",
     "text": [
      "Column: sex\n",
      "{'female': '0', 'male': '1'}\n",
      "Column: smoker\n",
      "{'no': '0', 'yes': '1'}\n",
      "Column: region\n",
      "{'northeast': '0', 'northwest': '1', 'southeast': '2', 'southwest': '3'}\n"
     ]
    },
    {
     "data": {
      "text/html": [
       "<div>\n",
       "<style scoped>\n",
       "    .dataframe tbody tr th:only-of-type {\n",
       "        vertical-align: middle;\n",
       "    }\n",
       "\n",
       "    .dataframe tbody tr th {\n",
       "        vertical-align: top;\n",
       "    }\n",
       "\n",
       "    .dataframe thead th {\n",
       "        text-align: right;\n",
       "    }\n",
       "</style>\n",
       "<table border=\"1\" class=\"dataframe\">\n",
       "  <thead>\n",
       "    <tr style=\"text-align: right;\">\n",
       "      <th></th>\n",
       "      <th>age</th>\n",
       "      <th>sex_fc</th>\n",
       "      <th>bmi</th>\n",
       "      <th>children</th>\n",
       "      <th>smoker_fc</th>\n",
       "      <th>region_fc</th>\n",
       "      <th>charges</th>\n",
       "    </tr>\n",
       "  </thead>\n",
       "  <tbody>\n",
       "    <tr>\n",
       "      <th>0</th>\n",
       "      <td>19</td>\n",
       "      <td>0</td>\n",
       "      <td>27.900</td>\n",
       "      <td>0</td>\n",
       "      <td>1</td>\n",
       "      <td>3</td>\n",
       "      <td>16884.92400</td>\n",
       "    </tr>\n",
       "    <tr>\n",
       "      <th>1</th>\n",
       "      <td>18</td>\n",
       "      <td>1</td>\n",
       "      <td>33.770</td>\n",
       "      <td>1</td>\n",
       "      <td>0</td>\n",
       "      <td>2</td>\n",
       "      <td>1725.55230</td>\n",
       "    </tr>\n",
       "    <tr>\n",
       "      <th>2</th>\n",
       "      <td>28</td>\n",
       "      <td>1</td>\n",
       "      <td>33.000</td>\n",
       "      <td>3</td>\n",
       "      <td>0</td>\n",
       "      <td>2</td>\n",
       "      <td>4449.46200</td>\n",
       "    </tr>\n",
       "    <tr>\n",
       "      <th>3</th>\n",
       "      <td>33</td>\n",
       "      <td>1</td>\n",
       "      <td>22.705</td>\n",
       "      <td>0</td>\n",
       "      <td>0</td>\n",
       "      <td>1</td>\n",
       "      <td>21984.47061</td>\n",
       "    </tr>\n",
       "    <tr>\n",
       "      <th>4</th>\n",
       "      <td>32</td>\n",
       "      <td>1</td>\n",
       "      <td>28.880</td>\n",
       "      <td>0</td>\n",
       "      <td>0</td>\n",
       "      <td>1</td>\n",
       "      <td>3866.85520</td>\n",
       "    </tr>\n",
       "    <tr>\n",
       "      <th>...</th>\n",
       "      <td>...</td>\n",
       "      <td>...</td>\n",
       "      <td>...</td>\n",
       "      <td>...</td>\n",
       "      <td>...</td>\n",
       "      <td>...</td>\n",
       "      <td>...</td>\n",
       "    </tr>\n",
       "    <tr>\n",
       "      <th>1332</th>\n",
       "      <td>50</td>\n",
       "      <td>1</td>\n",
       "      <td>30.970</td>\n",
       "      <td>3</td>\n",
       "      <td>0</td>\n",
       "      <td>1</td>\n",
       "      <td>10600.54830</td>\n",
       "    </tr>\n",
       "    <tr>\n",
       "      <th>1333</th>\n",
       "      <td>18</td>\n",
       "      <td>0</td>\n",
       "      <td>31.920</td>\n",
       "      <td>0</td>\n",
       "      <td>0</td>\n",
       "      <td>0</td>\n",
       "      <td>2205.98080</td>\n",
       "    </tr>\n",
       "    <tr>\n",
       "      <th>1334</th>\n",
       "      <td>18</td>\n",
       "      <td>0</td>\n",
       "      <td>36.850</td>\n",
       "      <td>0</td>\n",
       "      <td>0</td>\n",
       "      <td>2</td>\n",
       "      <td>1629.83350</td>\n",
       "    </tr>\n",
       "    <tr>\n",
       "      <th>1335</th>\n",
       "      <td>21</td>\n",
       "      <td>0</td>\n",
       "      <td>25.800</td>\n",
       "      <td>0</td>\n",
       "      <td>0</td>\n",
       "      <td>3</td>\n",
       "      <td>2007.94500</td>\n",
       "    </tr>\n",
       "    <tr>\n",
       "      <th>1336</th>\n",
       "      <td>61</td>\n",
       "      <td>0</td>\n",
       "      <td>29.070</td>\n",
       "      <td>0</td>\n",
       "      <td>1</td>\n",
       "      <td>1</td>\n",
       "      <td>29141.36030</td>\n",
       "    </tr>\n",
       "  </tbody>\n",
       "</table>\n",
       "<p>1337 rows × 7 columns</p>\n",
       "</div>"
      ],
      "text/plain": [
       "      age  sex_fc     bmi  children  smoker_fc  region_fc      charges\n",
       "0      19       0  27.900         0          1          3  16884.92400\n",
       "1      18       1  33.770         1          0          2   1725.55230\n",
       "2      28       1  33.000         3          0          2   4449.46200\n",
       "3      33       1  22.705         0          0          1  21984.47061\n",
       "4      32       1  28.880         0          0          1   3866.85520\n",
       "...   ...     ...     ...       ...        ...        ...          ...\n",
       "1332   50       1  30.970         3          0          1  10600.54830\n",
       "1333   18       0  31.920         0          0          0   2205.98080\n",
       "1334   18       0  36.850         0          0          2   1629.83350\n",
       "1335   21       0  25.800         0          0          3   2007.94500\n",
       "1336   61       0  29.070         0          1          1  29141.36030\n",
       "\n",
       "[1337 rows x 7 columns]"
      ]
     },
     "execution_count": 86,
     "metadata": {},
     "output_type": "execute_result"
    }
   ],
   "source": [
    "#1)PREPARACION VARIABLES. CREAREMOS DOS DATAFRAMES CON Y SIN OUTLIERS.\n",
    "#ADEMAS PARA USAR EL DF SIN OUTLIERS PARA EL ENTRENAMIENTO CON LA FUNCION SPLIT/TRAIN\n",
    "#PODEMOS USAR LOS DATOS SOL PARA REPRESENTAR GRAFICOS DE DISTRIBUCION.\n",
    "#REALIZAREMOS UNA FACTORIZACION DIRECTAMENTE, AUN ASI EL ANALISIS UNIVARIABLE CATEGORICO NO NOS LO SALTAREMOS.\n",
    "from sklearn.preprocessing import LabelEncoder\n",
    "import json\n",
    "import os\n",
    "\n",
    "def JsonFCZRename(df, categorical_cols, output_dir, suffix=\"_fc\"):\n",
    "    for col in categorical_cols:\n",
    "        le = LabelEncoder()\n",
    "        df[col] = le.fit_transform(df[col])\n",
    "        class_labels_str = [str(label) for label in le.classes_]\n",
    "        mapping_dict = {str(value): str(index) for value, index in zip(class_labels_str, le.transform(class_labels_str))}\n",
    "        print(f\"Column: {col}\")\n",
    "        print(mapping_dict)\n",
    "        filename = f\"{col}_factors.json\"\n",
    "        filepath = os.path.join(output_dir, filename)\n",
    "        with open(filepath, 'w') as f:\n",
    "            json.dump(mapping_dict, f, indent=4)\n",
    "        df.rename(columns={col: col + suffix}, inplace=True)\n",
    "    return df\n",
    "categorical_cols = ['sex', 'smoker', 'region']\n",
    "JsonFCZRename(df_rd, categorical_cols, '/workspaces/EDALinRegJBG/data/processed/FcVarsJson/')"
   ]
  },
  {
   "cell_type": "code",
   "execution_count": 87,
   "metadata": {},
   "outputs": [],
   "source": [
    "#1)Bifurcar dataframe con y sin outliers(COl y SOl).\n",
    "#dataframe sin outliers.\n",
    "df_rd_sol= df_rd.copy()\n",
    "df_rd_sol.to_csv('/workspaces/EDALinRegJBG/data/processed/Dataframes/df_rd_sol.csv')\n",
    "#dataframe con outliers.\n",
    "df_rd_col= df_rd.copy()\n",
    "df_rd_col.to_csv('/workspaces/EDALinRegJBG/data/processed/Dataframes/df_rd_col.csv')\n"
   ]
  },
  {
   "cell_type": "code",
   "execution_count": 88,
   "metadata": {},
   "outputs": [
    {
     "data": {
      "text/html": [
       "<div>\n",
       "<style scoped>\n",
       "    .dataframe tbody tr th:only-of-type {\n",
       "        vertical-align: middle;\n",
       "    }\n",
       "\n",
       "    .dataframe tbody tr th {\n",
       "        vertical-align: top;\n",
       "    }\n",
       "\n",
       "    .dataframe thead th {\n",
       "        text-align: right;\n",
       "    }\n",
       "</style>\n",
       "<table border=\"1\" class=\"dataframe\">\n",
       "  <thead>\n",
       "    <tr style=\"text-align: right;\">\n",
       "      <th></th>\n",
       "      <th>age</th>\n",
       "      <th>sex_fc</th>\n",
       "      <th>bmi</th>\n",
       "      <th>children</th>\n",
       "      <th>smoker_fc</th>\n",
       "      <th>region_fc</th>\n",
       "      <th>charges</th>\n",
       "    </tr>\n",
       "  </thead>\n",
       "  <tbody>\n",
       "    <tr>\n",
       "      <th>count</th>\n",
       "      <td>1337.000000</td>\n",
       "      <td>1337.000000</td>\n",
       "      <td>1337.000000</td>\n",
       "      <td>1337.000000</td>\n",
       "      <td>1337.0</td>\n",
       "      <td>1337.000000</td>\n",
       "      <td>1337.000000</td>\n",
       "    </tr>\n",
       "    <tr>\n",
       "      <th>mean</th>\n",
       "      <td>39.222139</td>\n",
       "      <td>0.504862</td>\n",
       "      <td>30.661455</td>\n",
       "      <td>1.095737</td>\n",
       "      <td>0.0</td>\n",
       "      <td>1.516081</td>\n",
       "      <td>12970.771535</td>\n",
       "    </tr>\n",
       "    <tr>\n",
       "      <th>std</th>\n",
       "      <td>14.044333</td>\n",
       "      <td>0.500163</td>\n",
       "      <td>6.093403</td>\n",
       "      <td>1.205571</td>\n",
       "      <td>0.0</td>\n",
       "      <td>1.105208</td>\n",
       "      <td>11262.094971</td>\n",
       "    </tr>\n",
       "    <tr>\n",
       "      <th>min</th>\n",
       "      <td>18.000000</td>\n",
       "      <td>0.000000</td>\n",
       "      <td>15.960000</td>\n",
       "      <td>0.000000</td>\n",
       "      <td>0.0</td>\n",
       "      <td>0.000000</td>\n",
       "      <td>1121.873900</td>\n",
       "    </tr>\n",
       "    <tr>\n",
       "      <th>25%</th>\n",
       "      <td>27.000000</td>\n",
       "      <td>0.000000</td>\n",
       "      <td>26.290000</td>\n",
       "      <td>0.000000</td>\n",
       "      <td>0.0</td>\n",
       "      <td>1.000000</td>\n",
       "      <td>4746.344000</td>\n",
       "    </tr>\n",
       "    <tr>\n",
       "      <th>50%</th>\n",
       "      <td>39.000000</td>\n",
       "      <td>1.000000</td>\n",
       "      <td>30.400000</td>\n",
       "      <td>1.000000</td>\n",
       "      <td>0.0</td>\n",
       "      <td>2.000000</td>\n",
       "      <td>9386.161300</td>\n",
       "    </tr>\n",
       "    <tr>\n",
       "      <th>75%</th>\n",
       "      <td>51.000000</td>\n",
       "      <td>1.000000</td>\n",
       "      <td>34.700000</td>\n",
       "      <td>2.000000</td>\n",
       "      <td>0.0</td>\n",
       "      <td>2.000000</td>\n",
       "      <td>16657.717450</td>\n",
       "    </tr>\n",
       "    <tr>\n",
       "      <th>max</th>\n",
       "      <td>64.000000</td>\n",
       "      <td>1.000000</td>\n",
       "      <td>51.520000</td>\n",
       "      <td>5.000000</td>\n",
       "      <td>0.0</td>\n",
       "      <td>3.000000</td>\n",
       "      <td>40480.464350</td>\n",
       "    </tr>\n",
       "  </tbody>\n",
       "</table>\n",
       "</div>"
      ],
      "text/plain": [
       "               age       sex_fc          bmi     children  smoker_fc  \\\n",
       "count  1337.000000  1337.000000  1337.000000  1337.000000     1337.0   \n",
       "mean     39.222139     0.504862    30.661455     1.095737        0.0   \n",
       "std      14.044333     0.500163     6.093403     1.205571        0.0   \n",
       "min      18.000000     0.000000    15.960000     0.000000        0.0   \n",
       "25%      27.000000     0.000000    26.290000     0.000000        0.0   \n",
       "50%      39.000000     1.000000    30.400000     1.000000        0.0   \n",
       "75%      51.000000     1.000000    34.700000     2.000000        0.0   \n",
       "max      64.000000     1.000000    51.520000     5.000000        0.0   \n",
       "\n",
       "         region_fc       charges  \n",
       "count  1337.000000   1337.000000  \n",
       "mean      1.516081  12970.771535  \n",
       "std       1.105208  11262.094971  \n",
       "min       0.000000   1121.873900  \n",
       "25%       1.000000   4746.344000  \n",
       "50%       2.000000   9386.161300  \n",
       "75%       2.000000  16657.717450  \n",
       "max       3.000000  40480.464350  "
      ]
     },
     "execution_count": 88,
     "metadata": {},
     "output_type": "execute_result"
    }
   ],
   "source": [
    "#1 Almacenamiento de OUTLIERS:\n",
    "#TRAS OBSERVAR EL DF, NINGUNA DE LAS VARIABLES TIENE LOGICA QUE TENGA UN LOWER LIMIT\n",
    "# NEGATIVO, AJUSTAMOS LA FUNCION PARA QUE LO MINIMO SEA 0\n",
    "def LimsOlSaveJson(df, columns, output_path, lower_limit_zero=True):\n",
    "    for column in columns:\n",
    "        stats = df[column].describe()\n",
    "        iqr = stats['75%'] - stats['25%']\n",
    "        ul = stats['75%'] + (2 * iqr)\n",
    "        ll = max(stats['25%'] - (2 * iqr), 0 if lower_limit_zero else None)\n",
    "        limits = {\"upper_limit\": ul, \"lower_limit\": ll}\n",
    "        file_path = f\"{output_path}/limits_{column}.json\"\n",
    "        with open(file_path, \"w\") as f:\n",
    "            json.dump(limits, f, indent=4)\n",
    "        df[column] = df[column].apply(lambda x: ul if x > ul else ll if x < ll else x)\n",
    "    return df\n",
    "#hacemos una lista de todas las variables, como hemos factorizado todas las variables categoricas, todas deberian ser numericas.\n",
    "num_vars= df_rd_sol.select_dtypes(include=np.number).columns.tolist()\n",
    "LimsOlSaveJson(df_rd_sol, num_vars,'/workspaces/EDALinRegJBG/data/processed/')\n",
    "df_rd_sol.describe()\n",
    "\n"
   ]
  },
  {
   "cell_type": "markdown",
   "metadata": {},
   "source": [
    "2) ANALISIS UNIVARIABLE.\n"
   ]
  },
  {
   "cell_type": "code",
   "execution_count": 89,
   "metadata": {},
   "outputs": [
    {
     "name": "stdout",
     "output_type": "stream",
     "text": [
      "               Tipo   Columna\n",
      "0          Numérica       age\n",
      "1          Numérica       bmi\n",
      "2          Numérica  children\n",
      "3          Numérica   charges\n",
      "4        Categórica       sex\n",
      "5        Categórica    smoker\n",
      "6        Categórica    region\n",
      "7    Total Numérico         4\n",
      "8  Total Categórico         3\n",
      "9     Total General         7\n"
     ]
    }
   ],
   "source": [
    "print(df_rd_vars)"
   ]
  },
  {
   "cell_type": "code",
   "execution_count": null,
   "metadata": {},
   "outputs": [
    {
     "name": "stderr",
     "output_type": "stream",
     "text": [
      "/tmp/ipykernel_5537/3864909727.py:8: MatplotlibDeprecationWarning: The get_cmap function was deprecated in Matplotlib 3.7 and will be removed in 3.11. Use ``matplotlib.colormaps[name]`` or ``matplotlib.colormaps.get_cmap()`` or ``pyplot.get_cmap()`` instead.\n",
      "  cmap = plt.cm.get_cmap('tab20', num_colors)\n",
      "/tmp/ipykernel_5537/3864909727.py:17: FutureWarning: \n",
      "\n",
      "Passing `palette` without assigning `hue` is deprecated and will be removed in v0.14.0. Assign the `x` variable to `hue` and set `legend=False` for the same effect.\n",
      "\n",
      "  sns.countplot(ax=col, data=df, x=x_var, hue=hue_var if hue_var else None,\n",
      "/tmp/ipykernel_5537/3864909727.py:17: FutureWarning: \n",
      "\n",
      "Passing `palette` without assigning `hue` is deprecated and will be removed in v0.14.0. Assign the `x` variable to `hue` and set `legend=False` for the same effect.\n",
      "\n",
      "  sns.countplot(ax=col, data=df, x=x_var, hue=hue_var if hue_var else None,\n",
      "/tmp/ipykernel_5537/3864909727.py:17: FutureWarning: \n",
      "\n",
      "Passing `palette` without assigning `hue` is deprecated and will be removed in v0.14.0. Assign the `x` variable to `hue` and set `legend=False` for the same effect.\n",
      "\n",
      "  sns.countplot(ax=col, data=df, x=x_var, hue=hue_var if hue_var else None,\n"
     ]
    },
    {
     "data": {
      "image/png": "[encoded data removed]",
      "text/plain": [
       "<Figure size 1200x800 with 4 Axes>"
      ]
     },
     "metadata": {},
     "output_type": "display_data"
    }
   ],
   "source": [
    "#2) ANÁLISIS CATEGORICAS UNIVARIABLE.\n",
    "def GrafUniCat(df, x_vars, hue_var, nrows=2, ncols=2, figsize=(12, 8)):\n",
    "  fig, axs = plt.subplots(nrows, ncols, figsize=figsize)\n",
    "  fig.suptitle(\"Countplots of Categorical Variables\")\n",
    "  num_colors = len(x_vars)\n",
    "  cmap = plt.cm.get_cmap('tab20', num_colors)\n",
    "  colors = cmap(range(num_colors))\n",
    "  for i, row in enumerate(axs):\n",
    "    for j, col in enumerate(row):\n",
    "      if i * ncols + j >= len(x_vars):\n",
    "        continue\n",
    "      x_var = x_vars[i * ncols + j]\n",
    "      sns.countplot(ax=col, data=df, x=x_var, hue=hue_var if hue_var else None,\n",
    "                    order=df[x_var].sort_values().value_counts().index,\n",
    "                    palette=[colors[i * ncols + j]] * df[x_var].nunique())\n",
    "      col.set_title(x_var)\n",
    "      col.set_xlabel(x_var)\n",
    "      col.set_ylabel(\"Count\")\n",
    "  plt.tight_layout()\n",
    "  plt.show()\n",
    "x_vars = [\"sex\",\"smoker\",\"region\"] #lista de varcats\n",
    "hue_var = None\n",
    "GrafUniCat(df_cat, x_vars, hue_var, nrows=2, ncols=2) #rellenamos los input"
   ]
  },
  {
   "cell_type": "code",
   "execution_count": 100,
   "metadata": {},
   "outputs": [
    {
     "name": "stdout",
     "output_type": "stream",
     "text": [
      "['age' 'bmi' 'children' 'charges']\n"
     ]
    }
   ],
   "source": [
    "print(df_rd_vars[df_rd_vars['Tipo'] == 'Numérica']['Columna'].unique())"
   ]
  },
  {
   "cell_type": "code",
   "execution_count": 111,
   "metadata": {},
   "outputs": [
    {
     "name": "stderr",
     "output_type": "stream",
     "text": [
      "/tmp/ipykernel_5537/1050253106.py:23: UserWarning: set_ticklabels() should only be used with a fixed number of ticks, i.e. after set_ticks() or using a FixedLocator.\n",
      "  axs[row, col].set_xticklabels(axs[row, col].get_xticklabels(), rotation=90)\n"
     ]
    },
    {
     "ename": "ZeroDivisionError",
     "evalue": "integer division or modulo by zero",
     "output_type": "error",
     "traceback": [
      "\u001b[0;31m---------------------------------------------------------------------------\u001b[0m",
      "\u001b[0;31mZeroDivisionError\u001b[0m                         Traceback (most recent call last)",
      "\u001b[1;32m/workspaces/EDALinRegJBG/src/explore.ipynb Celda 18\u001b[0m line \u001b[0;36m3\n\u001b[1;32m     <a href='vscode-notebook-cell://codespaces%2Bverbose-xylophone-97q7g7qx4qxq3x75j/workspaces/EDALinRegJBG/src/explore.ipynb#X24sdnNjb2RlLXJlbW90ZQ%3D%3D?line=33'>34</a>\u001b[0m hist_vars \u001b[39m=\u001b[39m [\u001b[39m'\u001b[39m\u001b[39mage\u001b[39m\u001b[39m'\u001b[39m, \u001b[39m'\u001b[39m\u001b[39mbmi\u001b[39m\u001b[39m'\u001b[39m, \u001b[39m'\u001b[39m\u001b[39mchildren\u001b[39m\u001b[39m'\u001b[39m, \u001b[39m'\u001b[39m\u001b[39mcharges\u001b[39m\u001b[39m'\u001b[39m]\n\u001b[1;32m     <a href='vscode-notebook-cell://codespaces%2Bverbose-xylophone-97q7g7qx4qxq3x75j/workspaces/EDALinRegJBG/src/explore.ipynb#X24sdnNjb2RlLXJlbW90ZQ%3D%3D?line=34'>35</a>\u001b[0m box_vars \u001b[39m=\u001b[39m [\u001b[39m'\u001b[39m\u001b[39mage\u001b[39m\u001b[39m'\u001b[39m, \u001b[39m'\u001b[39m\u001b[39mbmi\u001b[39m\u001b[39m'\u001b[39m, \u001b[39m'\u001b[39m\u001b[39mchildren\u001b[39m\u001b[39m'\u001b[39m, \u001b[39m'\u001b[39m\u001b[39mcharges\u001b[39m\u001b[39m'\u001b[39m]\n\u001b[0;32m---> <a href='vscode-notebook-cell://codespaces%2Bverbose-xylophone-97q7g7qx4qxq3x75j/workspaces/EDALinRegJBG/src/explore.ipynb#X24sdnNjb2RlLXJlbW90ZQ%3D%3D?line=35'>36</a>\u001b[0m GrafUniNum(df_rd_sol, df_rd_col, hist_vars, box_vars)\n",
      "\u001b[1;32m/workspaces/EDALinRegJBG/src/explore.ipynb Celda 18\u001b[0m line \u001b[0;36m1\n\u001b[1;32m     <a href='vscode-notebook-cell://codespaces%2Bverbose-xylophone-97q7g7qx4qxq3x75j/workspaces/EDALinRegJBG/src/explore.ipynb#X24sdnNjb2RlLXJlbW90ZQ%3D%3D?line=15'>16</a>\u001b[0m \u001b[39m# Plot histograms (outlier-cleaned data)\u001b[39;00m\n\u001b[1;32m     <a href='vscode-notebook-cell://codespaces%2Bverbose-xylophone-97q7g7qx4qxq3x75j/workspaces/EDALinRegJBG/src/explore.ipynb#X24sdnNjb2RlLXJlbW90ZQ%3D%3D?line=16'>17</a>\u001b[0m \u001b[39mfor\u001b[39;00m i, var \u001b[39min\u001b[39;00m \u001b[39menumerate\u001b[39m(hist_vars):\n\u001b[0;32m---> <a href='vscode-notebook-cell://codespaces%2Bverbose-xylophone-97q7g7qx4qxq3x75j/workspaces/EDALinRegJBG/src/explore.ipynb#X24sdnNjb2RlLXJlbW90ZQ%3D%3D?line=17'>18</a>\u001b[0m   row \u001b[39m=\u001b[39m i \u001b[39m/\u001b[39;49m\u001b[39m/\u001b[39;49m col\n\u001b[1;32m     <a href='vscode-notebook-cell://codespaces%2Bverbose-xylophone-97q7g7qx4qxq3x75j/workspaces/EDALinRegJBG/src/explore.ipynb#X24sdnNjb2RlLXJlbW90ZQ%3D%3D?line=18'>19</a>\u001b[0m   col \u001b[39m=\u001b[39m i \u001b[39m%\u001b[39m col\n\u001b[1;32m     <a href='vscode-notebook-cell://codespaces%2Bverbose-xylophone-97q7g7qx4qxq3x75j/workspaces/EDALinRegJBG/src/explore.ipynb#X24sdnNjb2RlLXJlbW90ZQ%3D%3D?line=19'>20</a>\u001b[0m   sns\u001b[39m.\u001b[39mhistplot(ax\u001b[39m=\u001b[39maxs[row, col], data\u001b[39m=\u001b[39mdf_no_outliers, x\u001b[39m=\u001b[39mvar, color\u001b[39m=\u001b[39m\u001b[39m\"\u001b[39m\u001b[39mblue\u001b[39m\u001b[39m\"\u001b[39m)\n",
      "\u001b[0;31mZeroDivisionError\u001b[0m: integer division or modulo by zero"
     ]
    },
    {
     "data": {
      "image/png": "[encoded data removed]",
      "text/plain": [
       "<Figure size 2000x2000 with 8 Axes>"
      ]
     },
     "metadata": {},
     "output_type": "display_data"
    }
   ],
   "source": [
    "#2)ANÁLISIS UNIVARIABLE, VARIABLES NUMÉRICAS.\n",
    "\n",
    "import matplotlib.pyplot as plt\n",
    "import seaborn as sns\n",
    "import math\n",
    "\n",
    "def GrafUniNum(df_no_outliers, df_with_outliers, hist_vars, box_vars):\n",
    "\n",
    "  # Determine the number of rows and columns based on the total number of plots\n",
    "  \n",
    "  row = 4\n",
    "  col= 2\n",
    "\n",
    "  fig, axs = plt.subplots(row, col, figsize=(20, 5 * row))\n",
    "\n",
    "  # Plot histograms (outlier-cleaned data)\n",
    "  for i, var in enumerate(hist_vars):\n",
    "    row = i // col\n",
    "    col = i % col\n",
    "    sns.histplot(ax=axs[row, col], data=df_no_outliers, x=var, color=\"blue\")\n",
    "    max_val_no_outliers = df_no_outliers[var].max()\n",
    "    axs[row, col].set_xlim(0, max_val_no_outliers)\n",
    "    axs[row, col].set_xticklabels(axs[row, col].get_xticklabels(), rotation=90)\n",
    "\n",
    "  # Plot boxplots (outlier-included data)\n",
    "  for i, var in enumerate(box_vars):\n",
    "\n",
    "    sns.boxplot(ax=axs[row, col], data=df_with_outliers, x=var, color=\"red\")\n",
    "    axs[row, col].set_xticklabels(axs[row, col].get_xticklabels(), rotation=90)\n",
    "\n",
    "  plt.tight_layout()\n",
    "  plt.show()\n",
    "#Preparamos la llamada a la funcion y el input\n",
    "hist_vars = ['age', 'bmi', 'children', 'charges']\n",
    "box_vars = ['age', 'bmi', 'children', 'charges']\n",
    "GrafUniNum(df_rd_sol, df_rd_col, hist_vars, box_vars)\n"
   ]
  }
 ],
 "metadata": {
  "kernelspec": {
   "display_name": "Python 3.8.13 64-bit ('3.8.13')",
   "language": "python",
   "name": "python3"
  },
  "language_info": {
   "codemirror_mode": {
    "name": "ipython",
    "version": 3
   },
   "file_extension": ".py",
   "mimetype": "text/x-python",
   "name": "python",
   "nbconvert_exporter": "python",
   "pygments_lexer": "ipython3",
   "version": "3.8.13"
  },
  "orig_nbformat": 4,
  "vscode": {
   "interpreter": {
    "hash": "110cc1dee26208153f2972f08a2ad52b6a56238dc66d48e87fb757ef2996db56"
   }
  }
 },
 "nbformat": 4,
 "nbformat_minor": 2
}
