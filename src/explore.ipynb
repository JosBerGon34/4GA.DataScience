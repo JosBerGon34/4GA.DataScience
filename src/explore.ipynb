{
 "cells": [
  {
   "cell_type": "markdown",
   "metadata": {},
   "source": [
    "# Explore here"
   ]
  },
  {
   "cell_type": "code",
   "execution_count": 5,
   "metadata": {},
   "outputs": [],
   "source": [
    "import numpy as np, random\n",
    "import pandas as pd\n",
    "import matplotlib.pyplot as plt\n",
    "import seaborn as sns\n",
    "import json\n",
    "import os\n",
    "import os.path\n",
    "import joblib\n",
    "import sklearn\n",
    "import sklearn.metrics as metrics"
   ]
  },
  {
   "cell_type": "markdown",
   "metadata": {},
   "source": [
    "EDA\n",
    "PASO1) OBTENCION Y LIMPIEZA DE DATOS:"
   ]
  },
  {
   "cell_type": "code",
   "execution_count": null,
   "metadata": {},
   "outputs": [],
   "source": [
    "df_rd= pd.read_csv('https://raw.githubusercontent.com/4GeeksAcademy/decision-tree-project-tutorial/main/diabetes.csv')\n",
    "df_rd.to_csv(\"../data/raw/df_rd.csv\", index=False)\n",
    "df_rd.info()"
   ]
  },
  {
   "cell_type": "code",
   "execution_count": null,
   "metadata": {},
   "outputs": [],
   "source": [
    "#1.1) FILTRADO DE NANS Y NULLS.\n",
    "df_rd = df_rd.drop_duplicates().reset_index(drop = True)\n",
    "df_rd = df_rd.fillna(0)\n",
    "df_rd.head(4)"
   ]
  },
  {
   "cell_type": "code",
   "execution_count": null,
   "metadata": {},
   "outputs": [],
   "source": [
    "#1.2) IDENTIFICACION TARGET Y ETIQUETACION DE PREDICTORAS.\n",
    "#NUESTRO TARGET ES OUTCOME, VARIABLE QUE NOS INDICA CON 0 QUE NO TIENE DIABETES, Y UNO QUE SI TIENE.\n",
    "#EL OBJETIVO ES REALIZAR UN MODELO QUE PREDIGA DADO UNOS DATOS SI EL PACIENTE TIENE DIABETES.\n",
    "def vartype(df):\n",
    "    num_cols = df.select_dtypes(include=['int64', 'float64']).columns.tolist()\n",
    "    cat_cols = df.select_dtypes(include=['object']).columns.tolist()\n",
    "    df_tipos = pd.DataFrame({'Tipo': ['Numérica']*len(num_cols) + ['Categórica']*len(cat_cols),\n",
    "                            'Columna': num_cols + cat_cols})\n",
    "    total_num = len(num_cols)\n",
    "    total_cat = len(cat_cols)\n",
    "    total_general = total_num + total_cat\n",
    "    # Crear una lista de diccionarios para las nuevas filas\n",
    "    new_rows = [{'Tipo': 'Total Numérico', 'Columna': total_num},\n",
    "                {'Tipo': 'Total Categórico', 'Columna': total_cat},\n",
    "                {'Tipo': 'Total General', 'Columna': total_general},]\n",
    "    df_tipos = pd.concat([df_tipos, pd.DataFrame(new_rows)], ignore_index=True)\n",
    "    return df_tipos\n",
    "df_rd_vars= vartype(df_rd)\n",
    "print(df_rd_vars)"
   ]
  },
  {
   "cell_type": "code",
   "execution_count": null,
   "metadata": {},
   "outputs": [],
   "source": [
    "#1.3) SIMPLIFICACION DEL DATAFRAME.\n",
    "#NOS SERVIREMOS DE LA FUNCIONALIDAD SELECTKBEST PARA SIMPLIFICAR EL DATAFRAME, SE SIRVE DE CRITERIOS MATEMATICOS PARA ESCOGER LAS PREDICTORAS.\n",
    "#AL NO HABER CATEGORICAS NO USAREMOS EL MODO CHI2, SOLO EL F_reg.\n",
    "#DE ENTRADA INTENTAREMOS REDUCIR EL NUMERO DE PREDICTORAS DE 8 A 6.\n",
    "from sklearn.feature_selection import SelectKBest\n",
    "from sklearn.feature_selection import f_regression\n",
    "# Suponiendo que 'df_rd' es tu DataFrame y 'target' es la columna objetivo\n",
    "X = df_rd.drop('Outcome', axis=1)  # Características\n",
    "y = df_rd['Outcome']  # Variable objetivo\n",
    "# Seleccionar las 15 mejores características (ajusta el valor de k según tus necesidades)\n",
    "selector = SelectKBest(f_regression, k=6)\n",
    "X_new = selector.fit_transform(X, y)\n",
    "# Obtener las características seleccionadas\n",
    "selected_features = X.columns[selector.get_support()]\n",
    "# Crear un nuevo DataFrame con las características seleccionadas y la variable objetivo\n",
    "df_Eda = pd.DataFrame(X_new, columns=selected_features)\n",
    "df_Edav7 = pd.concat([df_Eda, y], axis=1)  #Agregamos manualmente la target y al dataframe para completarlo.\n",
    "df_Edav7.to_csv('../data/processed/df_edav7.csv', index=False)\n",
    "# Visualizar las primeras filas del DataFrame\n",
    "print(df_Edav7.describe())\n",
    "#Nuestro dataframe resultante es tal y como queriamos, 6 predictoras y nuestra 'Outcome' como var target, total 7 vars.\n",
    "#Podemos echar un vistazo al heatmap para ver correlaciones, y usando criterio de correlacion simplificarlo aun mas.\n"
   ]
  }
 ],
 "metadata": {
  "kernelspec": {
   "display_name": "Python 3.8.13 64-bit ('3.8.13')",
   "language": "python",
   "name": "python3"
  },
  "language_info": {
   "codemirror_mode": {
    "name": "ipython",
    "version": 3
   },
   "file_extension": ".py",
   "mimetype": "text/x-python",
   "name": "python",
   "nbconvert_exporter": "python",
   "pygments_lexer": "ipython3",
   "version": "3.8.13"
  },
  "orig_nbformat": 4,
  "vscode": {
   "interpreter": {
    "hash": "110cc1dee26208153f2972f08a2ad52b6a56238dc66d48e87fb757ef2996db56"
   }
  }
 },
 "nbformat": 4,
 "nbformat_minor": 2
}
