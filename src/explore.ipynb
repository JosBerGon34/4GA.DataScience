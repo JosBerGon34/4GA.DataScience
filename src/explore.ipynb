{
 "cells": [
  {
   "cell_type": "markdown",
   "metadata": {},
   "source": [
    "# Explore here"
   ]
  },
  {
   "cell_type": "code",
   "execution_count": null,
   "metadata": {},
   "outputs": [],
   "source": [
    "import pandas as pd\n",
    "import numpy as np, random\n",
    "import statsmodels.api as sm\n",
    "import datetime\n",
    "#https://4geeks.com/es/syllabus/spain-ds-pt-10/project/alternative-time-series-project\n",
    "'''Sistema de predicción de ventas\n",
    "Queremos establecer el almacén de nuestra empresa en otra localización \n",
    "y necesitamos estimar el ritmo de las ventas, que desde la creación de la empresa ha ido en aumento,\n",
    "para los próximos meses, a fin de proveer el espacio que necesitaremos'''"
   ]
  },
  {
   "cell_type": "code",
   "execution_count": 2,
   "metadata": {},
   "outputs": [
    {
     "data": {
      "text/html": [
       "<div>\n",
       "<style scoped>\n",
       "    .dataframe tbody tr th:only-of-type {\n",
       "        vertical-align: middle;\n",
       "    }\n",
       "\n",
       "    .dataframe tbody tr th {\n",
       "        vertical-align: top;\n",
       "    }\n",
       "\n",
       "    .dataframe thead th {\n",
       "        text-align: right;\n",
       "    }\n",
       "</style>\n",
       "<table border=\"1\" class=\"dataframe\">\n",
       "  <thead>\n",
       "    <tr style=\"text-align: right;\">\n",
       "      <th></th>\n",
       "      <th>date</th>\n",
       "      <th>sales</th>\n",
       "    </tr>\n",
       "  </thead>\n",
       "  <tbody>\n",
       "    <tr>\n",
       "      <th>0</th>\n",
       "      <td>2022-09-03 17:10:08.079328</td>\n",
       "      <td>55.292157</td>\n",
       "    </tr>\n",
       "    <tr>\n",
       "      <th>1</th>\n",
       "      <td>2022-09-04 17:10:08.079328</td>\n",
       "      <td>53.803211</td>\n",
       "    </tr>\n",
       "    <tr>\n",
       "      <th>2</th>\n",
       "      <td>2022-09-05 17:10:08.079328</td>\n",
       "      <td>58.141693</td>\n",
       "    </tr>\n",
       "    <tr>\n",
       "      <th>3</th>\n",
       "      <td>2022-09-06 17:10:08.079328</td>\n",
       "      <td>64.530899</td>\n",
       "    </tr>\n",
       "  </tbody>\n",
       "</table>\n",
       "</div>"
      ],
      "text/plain": [
       "                         date      sales\n",
       "0  2022-09-03 17:10:08.079328  55.292157\n",
       "1  2022-09-04 17:10:08.079328  53.803211\n",
       "2  2022-09-05 17:10:08.079328  58.141693\n",
       "3  2022-09-06 17:10:08.079328  64.530899"
      ]
     },
     "execution_count": 2,
     "metadata": {},
     "output_type": "execute_result"
    }
   ],
   "source": [
    "'''\n",
    "Paso 1: Carga del conjunto de datos\n",
    "'''\n",
    "df_rd = pd.read_csv(\"https://raw.githubusercontent.com/4GeeksAcademy/alternative-time-series-project/main/sales.csv\")\n",
    "df_rd.to_csv(\"/workspaces/Proyecto-JBG.SerieTemporalAlternativa/data/raw/df_rd.csv\", index=False)\n",
    "df_rd.head(4)"
   ]
  },
  {
   "cell_type": "code",
   "execution_count": 3,
   "metadata": {},
   "outputs": [
    {
     "data": {
      "text/plain": [
       "(                         date      sales     dateYMD\n",
       " 0  2022-09-03 17:10:08.079328  55.292157  2022-09-03\n",
       " 1  2022-09-04 17:10:08.079328  53.803211  2022-09-04\n",
       " 2  2022-09-05 17:10:08.079328  58.141693  2022-09-05,)"
      ]
     },
     "execution_count": 3,
     "metadata": {},
     "output_type": "execute_result"
    }
   ],
   "source": [
    "#PASO 1, DARLE FORMATO A LA FECHA DE LAS MUESTRAS.\n",
    "df_rd[\"dateYMD\"] = pd.to_datetime(df_rd[\"date\"], format='mixed')\n",
    "df_rd[\"dateYMD\"] = df_rd[\"dateYMD\"].dt.date\n",
    "df_rd.head(3),\n",
    "\n"
   ]
  },
  {
   "cell_type": "code",
   "execution_count": 4,
   "metadata": {},
   "outputs": [
    {
     "data": {
      "text/plain": [
       "(       sales     dateYMD\n",
       " 0  55.292157  2022-09-03\n",
       " 1  53.803211  2022-09-04\n",
       " 2  58.141693  2022-09-05,)"
      ]
     },
     "execution_count": 4,
     "metadata": {},
     "output_type": "execute_result"
    }
   ],
   "source": [
    "#Ya tenemos nuestra columnas de fechas con el formato YMD.\n",
    "#dropeamos la columna antigua de fechas.\n",
    "df_rd_YMD = df_rd.drop(\"date\", axis=1)\n",
    "df_rd_YMD.to_csv(\"/workspaces/Proyecto-JBG.SerieTemporalAlternativa/data/raw/df_rd.csv\", index=False)\n",
    "df_rd_YMD.head(3),"
   ]
  },
  {
   "cell_type": "code",
   "execution_count": 5,
   "metadata": {},
   "outputs": [
    {
     "data": {
      "text/html": [
       "<div>\n",
       "<style scoped>\n",
       "    .dataframe tbody tr th:only-of-type {\n",
       "        vertical-align: middle;\n",
       "    }\n",
       "\n",
       "    .dataframe tbody tr th {\n",
       "        vertical-align: top;\n",
       "    }\n",
       "\n",
       "    .dataframe thead th {\n",
       "        text-align: right;\n",
       "    }\n",
       "</style>\n",
       "<table border=\"1\" class=\"dataframe\">\n",
       "  <thead>\n",
       "    <tr style=\"text-align: right;\">\n",
       "      <th></th>\n",
       "      <th>sales</th>\n",
       "    </tr>\n",
       "    <tr>\n",
       "      <th>dateYMD</th>\n",
       "      <th></th>\n",
       "    </tr>\n",
       "  </thead>\n",
       "  <tbody>\n",
       "    <tr>\n",
       "      <th>2022-09-03</th>\n",
       "      <td>55.292157</td>\n",
       "    </tr>\n",
       "    <tr>\n",
       "      <th>2022-09-04</th>\n",
       "      <td>53.803211</td>\n",
       "    </tr>\n",
       "    <tr>\n",
       "      <th>2022-09-05</th>\n",
       "      <td>58.141693</td>\n",
       "    </tr>\n",
       "  </tbody>\n",
       "</table>\n",
       "</div>"
      ],
      "text/plain": [
       "                sales\n",
       "dateYMD              \n",
       "2022-09-03  55.292157\n",
       "2022-09-04  53.803211\n",
       "2022-09-05  58.141693"
      ]
     },
     "execution_count": 5,
     "metadata": {},
     "output_type": "execute_result"
    }
   ],
   "source": [
    "#Vamos a poner la columna dateYMD como indice default del dataframe, creando un dataframe con indice en formato\n",
    "#fecha y una sola columna con las ventas'sales'\n",
    "df_rd_YMD = df_rd_YMD.set_index('dateYMD')\n",
    "df_ds = df_rd_YMD[['sales']]\n",
    "df_ds.to_csv(\"/workspaces/Proyecto-JBG.SerieTemporalAlternativa/data/raw/df_rd_indexed.csv\", index=True)\n",
    "df_ds.head(3)\n"
   ]
  },
  {
   "cell_type": "code",
   "execution_count": 17,
   "metadata": {},
   "outputs": [
    {
     "ename": "NameError",
     "evalue": "name 'trend' is not defined",
     "output_type": "error",
     "traceback": [
      "\u001b[0;31m---------------------------------------------------------------------------\u001b[0m",
      "\u001b[0;31mNameError\u001b[0m                                 Traceback (most recent call last)",
      "\u001b[1;32m/workspaces/Proyecto-JBG.SerieTemporalAlternativa/src/explore.ipynb Celda 7\u001b[0m line \u001b[0;36m6\n\u001b[1;32m      <a href='vscode-notebook-cell://codespaces%2Bubiquitous-dollop-x595g594q4p5369q5/workspaces/Proyecto-JBG.SerieTemporalAlternativa/src/explore.ipynb#W6sdnNjb2RlLXJlbW90ZQ%3D%3D?line=3'>4</a>\u001b[0m fig, axis \u001b[39m=\u001b[39m plt\u001b[39m.\u001b[39msubplots(figsize \u001b[39m=\u001b[39m (\u001b[39m10\u001b[39m, \u001b[39m5\u001b[39m))\n\u001b[1;32m      <a href='vscode-notebook-cell://codespaces%2Bubiquitous-dollop-x595g594q4p5369q5/workspaces/Proyecto-JBG.SerieTemporalAlternativa/src/explore.ipynb#W6sdnNjb2RlLXJlbW90ZQ%3D%3D?line=4'>5</a>\u001b[0m sns\u001b[39m.\u001b[39mlineplot(data \u001b[39m=\u001b[39m df_ds)\n\u001b[0;32m----> <a href='vscode-notebook-cell://codespaces%2Bubiquitous-dollop-x595g594q4p5369q5/workspaces/Proyecto-JBG.SerieTemporalAlternativa/src/explore.ipynb#W6sdnNjb2RlLXJlbW90ZQ%3D%3D?line=5'>6</a>\u001b[0m sns\u001b[39m.\u001b[39mlineplot(data \u001b[39m=\u001b[39m trend)\n\u001b[1;32m      <a href='vscode-notebook-cell://codespaces%2Bubiquitous-dollop-x595g594q4p5369q5/workspaces/Proyecto-JBG.SerieTemporalAlternativa/src/explore.ipynb#W6sdnNjb2RlLXJlbW90ZQ%3D%3D?line=6'>7</a>\u001b[0m plt\u001b[39m.\u001b[39mtight_layout()\n\u001b[1;32m      <a href='vscode-notebook-cell://codespaces%2Bubiquitous-dollop-x595g594q4p5369q5/workspaces/Proyecto-JBG.SerieTemporalAlternativa/src/explore.ipynb#W6sdnNjb2RlLXJlbW90ZQ%3D%3D?line=7'>8</a>\u001b[0m plt\u001b[39m.\u001b[39mshow()\n",
      "\u001b[0;31mNameError\u001b[0m: name 'trend' is not defined"
     ]
    },
    {
     "data": {
      "image/png": "[encoded data removed]",
      "text/plain": [
       "<Figure size 1000x500 with 1 Axes>"
      ]
     },
     "metadata": {},
     "output_type": "display_data"
    }
   ],
   "source": [
    "#vamos a graficar nuestros datos.\n",
    "import matplotlib.pyplot as plt\n",
    "import seaborn as sns\n",
    "fig, axis = plt.subplots(figsize = (10, 5))\n",
    "sns.lineplot(data = df_ds)\n",
    "sns.lineplot(data = trend)\n",
    "plt.tight_layout()\n",
    "plt.show()"
   ]
  },
  {
   "cell_type": "code",
   "execution_count": null,
   "metadata": {},
   "outputs": [
    {
     "data": {
      "text/plain": [
       "np.int64(366)"
      ]
     },
     "execution_count": 7,
     "metadata": {},
     "output_type": "execute_result"
    }
   ],
   "source": [
    "'''\n",
    "Paso 2: Construye y analiza la serie temporal\n",
    "Construye la estructura de datos válida para la serie temporal, grafícala y, a continuación, analízala y responde a las siguientes preguntas:\n",
    "A¿Cuál es el tensor de la serie temporal? El tensor de la unidad temporal son dias, en concreto es una serie de datos comprendidos en 366 tensores, 366 dias.\n",
    "B¿Cuál es la tendencia? La tendencia es lineal positiva, la grafica incrementa de valor dia a dia, presenta ruidos(valores que decrementan e incrementan localmente pero muy leves). En general los valores van incrementando linealmente de forma positiva.\n",
    "C¿Es estacionaria? Si, completa el ciclo de un año comprendido en 366 muestras, acabando un ciclo.\n",
    "D¿Existe variabilidad o presencia de ruido? Apenas perceptible, el ruido que presenta es de poca intensidad y se aprecia claramente una linea en incremento.\n",
    "'''\n",
    "numero_de_muestras = df_ds['sales'].count()\n",
    "numero_de_muestras"
   ]
  },
  {
   "cell_type": "code",
   "execution_count": 16,
   "metadata": {},
   "outputs": [
    {
     "name": "stdout",
     "output_type": "stream",
     "text": [
      "Resultados de la prueba de Dickey-Fuller:\n"
     ]
    },
    {
     "data": {
      "text/plain": [
       "'\\nfrom statsmodels.tsa.seasonal import seasonal_decompose\\ndecomposition = seasonal_decompose(df_ds, period = 366)\\ndecomposition\\n'"
      ]
     },
     "execution_count": 16,
     "metadata": {},
     "output_type": "execute_result"
    }
   ],
   "source": [
    "'''\n",
    "Paso 3: Entrena un ARIMA:\n",
    "Utiliza los datos de entrenamiento para encontrar la mejor parametrización de tu modelo ARIMA.\n",
    "Vamos a analizar el timeseries con la prueba dickey-fuller y ver si es o no estacionaria en funcion de los resultados,\n",
    "despues realizar un seasonal decompose para poder trabajar estadisticamente con los datos.\n",
    "'''\n",
    "\n",
    "from statsmodels.tsa.stattools import adfuller\n",
    "\n",
    "from statsmodels.tsa.stattools import adfuller\n",
    "\n",
    "def test_stationarity(timeseries):\n",
    "    print(\"Resultados de la prueba de Dickey-Fuller:\")\n",
    "    dftest = adfuller(timeseries, autolag = \"AIC\")\n",
    "    dfoutput = pd.Series(dftest[0:4], index = [\"Test Statistic\", \"p-value\", \"#Lags Used\", \"Number of Observations Used\"])\n",
    "    for key,value in dftest[4].items():\n",
    "        dfoutput[\"Critical Value (%s)\"%key] = value\n",
    "    return dfoutput\n",
    "\n",
    "test_stationarity(df_ds)\n",
    "\n",
    "\n",
    "\n",
    "\n",
    "\n",
    "\n",
    "\n",
    "\n",
    "\n",
    "'''\n",
    "from statsmodels.tsa.seasonal import seasonal_decompose\n",
    "decomposition = seasonal_decompose(df_ds, period = 366)\n",
    "decomposition\n",
    "'''"
   ]
  }
 ],
 "metadata": {
  "kernelspec": {
   "display_name": "Python 3.8.13 64-bit ('3.8.13')",
   "language": "python",
   "name": "python3"
  },
  "language_info": {
   "codemirror_mode": {
    "name": "ipython",
    "version": 3
   },
   "file_extension": ".py",
   "mimetype": "text/x-python",
   "name": "python",
   "nbconvert_exporter": "python",
   "pygments_lexer": "ipython3",
   "version": "3.8.13"
  },
  "orig_nbformat": 4,
  "vscode": {
   "interpreter": {
    "hash": "110cc1dee26208153f2972f08a2ad52b6a56238dc66d48e87fb757ef2996db56"
   }
  }
 },
 "nbformat": 4,
 "nbformat_minor": 2
}
