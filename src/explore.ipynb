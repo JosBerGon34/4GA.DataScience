{
 "cells": [
  {
   "cell_type": "markdown",
   "metadata": {},
   "source": [
    "# Explore here"
   ]
  },
  {
   "cell_type": "code",
   "execution_count": 81,
   "metadata": {},
   "outputs": [],
   "source": [
    "import numpy as np, random\n",
    "import pandas as pd\n",
    "import matplotlib.pyplot as plt\n",
    "import seaborn as sns\n",
    "import json\n",
    "import os\n",
    "import os.path\n",
    "import joblib\n",
    "import sklearn\n",
    "import sklearn.metrics as metrics\n",
    "import psycopg2\n",
    "import sqlite3\n",
    "import requests"
   ]
  },
  {
   "cell_type": "code",
   "execution_count": null,
   "metadata": {},
   "outputs": [],
   "source": [
    "df_rd= pd.read_csv('https://raw.githubusercontent.com/4GeeksAcademy/k-nearest-neighbors-project-tutorial/main/tmdb_5000_movies.csv')\n",
    "df_rd.head(4)"
   ]
  },
  {
   "cell_type": "code",
   "execution_count": null,
   "metadata": {},
   "outputs": [],
   "source": [
    "df_rd2= pd.read_csv('https://raw.githubusercontent.com/4GeeksAcademy/k-nearest-neighbors-project-tutorial/main/tmdb_5000_credits.csv')\n",
    "df_rd2.head(4)"
   ]
  },
  {
   "cell_type": "code",
   "execution_count": null,
   "metadata": {},
   "outputs": [],
   "source": [
    "#df_rdMovies = df_rd.drop(['']) = pd.to_csv('../data/processed/PelisyCreditos.csv') #Dataframe con peliculas y creditos.\n",
    "#df_rdPyCfilt = df_rd2.drop(['']) = pd.to_csv('../data/processed/ExtraInfo.csv')# Dataframe con Json filtrado a peticion.\n",
    "conn = sqlite3.connect(\"../data/raw/tmdb5k.db\")\n",
    "\n",
    "df_rd.to_sql(\"pelis\", conn, if_exists = \"replace\", index = False)\n",
    "df_rd2.to_sql(\"creditos\", conn, if_exists = \"replace\", index = False)"
   ]
  },
  {
   "cell_type": "code",
   "execution_count": null,
   "metadata": {},
   "outputs": [],
   "source": [
    "\n",
    "query = \"\"\"\n",
    "    SELECT *\n",
    "    FROM pelis\n",
    "    INNER JOIN creditos\n",
    "    ON pelis.title = creditos.title;\n",
    "\"\"\"\n",
    "\n",
    "df_rd3 = pd.read_sql_query(query, conn)\n",
    "conn.close()\n",
    "\n",
    "df_rd3 = df_rd3.drop_duplicates(keep='last')\n",
    "df_rd3.to_csv('../data/processed/merged.csv')\n",
    "df_rd3.head()\n",
    "#budget\tgenres\thomepage\tid\tkeywords\toriginal_language\toriginal_title\toverview\tpopularity\tproduction_companies\t...\truntime\tspoken_languages\tstatus\ttagline\ttitle\tvote_average\tvote_count\tmovie_id\tcast\tcrew"
   ]
  },
  {
   "cell_type": "code",
   "execution_count": null,
   "metadata": {},
   "outputs": [],
   "source": [
    "df_rd3.info()"
   ]
  },
  {
   "cell_type": "code",
   "execution_count": 87,
   "metadata": {},
   "outputs": [],
   "source": [
    "#filtramos por cada columna con formato diccionario para crear nuevas columnas con el class name como nombre de columna y su valor como contenido de la muestra.\n",
    "# Crear un nuevo DataFrame vacío para almacenar los nuevos datos\n",
    "df_rd3_dicts = df_rd3.copy()[['genres', 'keywords', 'cast']]\n",
    "df_rd3_raw = df_rd3.copy()[['movie_id', 'title', 'overview', 'crew']]\n"
   ]
  },
  {
   "cell_type": "markdown",
   "metadata": {},
   "source": [
    "#### Paso 3: Transforma los datos\n",
    "\n",
    "Como puedes ver, hay algunas columnas con formato JSON. De cada uno de los JSONs, selecciona el atributo `name` y reemplaza las columnas `genres` y `keywords`. Para la columna `cast`, selecciona los tres primeros nombres.\n",
    "\n",
    "Las únicas columnas que quedan por modificar son `crew` (equipo) y `overview` (resumen). Para la primera columna, transfórmala para que contenga el nombre del director. Para la segunda, conviértela en una lista.\n",
    "\n",
    "Una vez hayamos terminado de procesar las columnas y que el modelo de recomendación no se confunda, por ejemplo, entre *Jennifer Aniston* y *Jennifer Conelly*, quitaremos los espacios entre las palabras. Aplica esta función a las columnas `genres`, `cast`, `crew` y `keywords`.\n",
    "\n",
    "Por último, reduciremos nuestro conjunto de datos combinando todas nuestras columnas convertidas anteriores en una sola columna llamada `tags` (que crearemos). Esta columna ahora tendrá todos los elementos separados por comas y luego las reemplazaremos por espacios en blanco. Debería quedar algo así:\n"
   ]
  },
  {
   "cell_type": "code",
   "execution_count": 88,
   "metadata": {},
   "outputs": [],
   "source": [
    "import pandas as pd\n",
    "import json\n",
    "\n",
    "def sacarvalor(json_str, limit=None):\n",
    "    if pd.notna(json_str):\n",
    "        data = json.loads(json_str)\n",
    "        return [item['name'] for item in data[:limit]] if limit else [item['name'] for item in data]\n",
    "    else:\n",
    "        return None\n",
    "df_rd3_dicts['cast'] = df_rd3_dicts['cast'].apply(sacarvalor, limit=3)\n",
    "df_rd3_dicts['genres'] = df_rd3_dicts['genres'].apply(sacarvalor)\n",
    "df_rd3_dicts['keywords'] = df_rd3_dicts['keywords'].apply(sacarvalor)"
   ]
  },
  {
   "cell_type": "code",
   "execution_count": null,
   "metadata": {},
   "outputs": [],
   "source": [
    "df_rd3_dicts.head()"
   ]
  },
  {
   "cell_type": "code",
   "execution_count": 90,
   "metadata": {},
   "outputs": [],
   "source": [
    "\n",
    "def sacardirector(json_str):\n",
    "    try:\n",
    "        data = json.loads(json_str)\n",
    "        for member in data:\n",
    "            if member['job'] == 'Director':\n",
    "                return member['name']\n",
    "        return None  # \n",
    "    except (json.JSONDecodeError, TypeError):\n",
    "        print(f\"Error al analizar el JSON: {json_str}\")\n",
    "        return None\n",
    "\n",
    "df_rd3_raw['crew'] = df_rd3_raw['crew'].apply(sacardirector)\n"
   ]
  },
  {
   "cell_type": "code",
   "execution_count": null,
   "metadata": {},
   "outputs": [],
   "source": [
    "import pandas as pd\n",
    "\n",
    "def delcolpos(df, posicion):\n",
    "    df.drop(df.columns[posicion], axis=1, inplace=True)\n",
    "    return df\n",
    "df = delcospos(df_rd3_raw, 3)\n",
    "df_rd3_raw"
   ]
  }
 ],
 "metadata": {
  "kernelspec": {
   "display_name": "Python 3.8.13 64-bit ('3.8.13')",
   "language": "python",
   "name": "python3"
  },
  "language_info": {
   "codemirror_mode": {
    "name": "ipython",
    "version": 3
   },
   "file_extension": ".py",
   "mimetype": "text/x-python",
   "name": "python",
   "nbconvert_exporter": "python",
   "pygments_lexer": "ipython3",
   "version": "3.8.13"
  },
  "orig_nbformat": 4,
  "vscode": {
   "interpreter": {
    "hash": "110cc1dee26208153f2972f08a2ad52b6a56238dc66d48e87fb757ef2996db56"
   }
  }
 },
 "nbformat": 4,
 "nbformat_minor": 2
}
